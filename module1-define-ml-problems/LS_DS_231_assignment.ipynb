{
 "cells": [
  {
   "cell_type": "markdown",
   "metadata": {
    "colab_type": "text",
    "id": "nCc3XZEyG3XV"
   },
   "source": [
    "Lambda School Data Science\n",
    "\n",
    "*Unit 2, Sprint 3, Module 1*\n",
    "\n",
    "---\n",
    "\n",
    "\n",
    "# Define ML problems\n",
    "\n",
    "You will use your portfolio project dataset for all assignments this sprint.\n",
    "\n",
    "## Assignment\n",
    "\n",
    "Complete these tasks for your project, and document your decisions.\n",
    "\n",
    "- [ ] Choose your target. Which column in your tabular dataset will you predict?\n",
    "- [ ] Is your problem regression or classification?\n",
    "- [ ] How is your target distributed?\n",
    "    - Classification: How many classes? Are the classes imbalanced?\n",
    "    - Regression: Is the target right-skewed? If so, you may want to log transform the target.\n",
    "- [ ] Choose your evaluation metric(s).\n",
    "    - Classification: Is your majority class frequency >= 50% and < 70% ? If so, you can just use accuracy if you want. Outside that range, accuracy could be misleading. What evaluation metric will you choose, in addition to or instead of accuracy?\n",
    "    - Regression: Will you use mean absolute error, root mean squared error, R^2, or other regression metrics?\n",
    "- [ ] Choose which observations you will use to train, validate, and test your model.\n",
    "    - Are some observations outliers? Will you exclude them?\n",
    "    - Will you do a random split or a time-based split?\n",
    "- [ ] Begin to clean and explore your data.\n",
    "- [ ] Begin to choose which features, if any, to exclude. Would some features \"leak\" future information?\n",
    "\n",
    "If you haven't found a dataset yet, do that today. [Review requirements for your portfolio project](https://lambdaschool.github.io/ds/unit2) and choose your dataset.\n",
    "\n",
    "Some students worry, ***what if my model isn't “good”?*** Then, [produce a detailed tribute to your wrongness. That is science!](https://twitter.com/nathanwpyle/status/1176860147223867393)"
   ]
  },
  {
   "cell_type": "code",
   "execution_count": 1,
   "metadata": {},
   "outputs": [],
   "source": [
    "%%capture\n",
    "!pip install category_encoders==2.*\n",
    "\n",
    "# Working locally:\n",
    "DATA_PATH = '../data/'"
   ]
  },
  {
   "cell_type": "markdown",
   "metadata": {},
   "source": [
    "### Import Libraries"
   ]
  },
  {
   "cell_type": "code",
   "execution_count": 86,
   "metadata": {},
   "outputs": [],
   "source": [
    "import pandas as pd\n",
    "import numpy as np\n",
    "import matplotlib.pyplot as plt\n",
    "pd.set_option(\"display.max_columns\", 75)\n",
    "pd.set_option(\"display.max_rows\", 75)\n",
    "\n",
    "from sklearn.pipeline import make_pipeline\n",
    "from sklearn.impute import SimpleImputer\n",
    "from sklearn.ensemble import RandomForestClassifier, RandomForestRegressor\n",
    "from sklearn.tree import DecisionTreeClassifier\n",
    "from sklearn.linear_model import LogisticRegression, LinearRegression\n",
    "from sklearn.preprocessing import StandardScaler, OrdinalEncoder\n",
    "from sklearn.metrics import classification_report, roc_curve, plot_confusion_matrix, plot_roc_curve\n",
    "from sklearn.model_selection import train_test_split"
   ]
  },
  {
   "cell_type": "code",
   "execution_count": 122,
   "metadata": {},
   "outputs": [],
   "source": [
    "def clean_up_binary_columns(cell_contents):\n",
    "  if isinstance(cell_contents, str):\n",
    "    return 1\n",
    "  else:\n",
    "    return 0"
   ]
  },
  {
   "cell_type": "code",
   "execution_count": 129,
   "metadata": {
    "scrolled": true
   },
   "outputs": [
    {
     "name": "stdout",
     "output_type": "stream",
     "text": [
      "(308948, 15)\n"
     ]
    },
    {
     "data": {
      "text/html": [
       "<div>\n",
       "<style scoped>\n",
       "    .dataframe tbody tr th:only-of-type {\n",
       "        vertical-align: middle;\n",
       "    }\n",
       "\n",
       "    .dataframe tbody tr th {\n",
       "        vertical-align: top;\n",
       "    }\n",
       "\n",
       "    .dataframe thead th {\n",
       "        text-align: right;\n",
       "    }\n",
       "</style>\n",
       "<table border=\"1\" class=\"dataframe\">\n",
       "  <thead>\n",
       "    <tr style=\"text-align: right;\">\n",
       "      <th></th>\n",
       "      <th>ZIP CODE</th>\n",
       "      <th>LATITUDE</th>\n",
       "      <th>LONGITUDE</th>\n",
       "      <th>PERSONS INJURED</th>\n",
       "      <th>PERSONS KILLED</th>\n",
       "      <th>PEDESTRIANS INJURED</th>\n",
       "      <th>PEDESTRIANS KILLED</th>\n",
       "      <th>CYCLISTS INJURED</th>\n",
       "      <th>CYCLISTS KILLED</th>\n",
       "      <th>MOTORISTS INJURED</th>\n",
       "      <th>MOTORISTS KILLED</th>\n",
       "      <th>Total_fatalities</th>\n",
       "      <th>Total_injured</th>\n",
       "      <th>Total_victims</th>\n",
       "      <th>New_Borough</th>\n",
       "    </tr>\n",
       "    <tr>\n",
       "      <th>DATE</th>\n",
       "      <th></th>\n",
       "      <th></th>\n",
       "      <th></th>\n",
       "      <th></th>\n",
       "      <th></th>\n",
       "      <th></th>\n",
       "      <th></th>\n",
       "      <th></th>\n",
       "      <th></th>\n",
       "      <th></th>\n",
       "      <th></th>\n",
       "      <th></th>\n",
       "      <th></th>\n",
       "      <th></th>\n",
       "      <th></th>\n",
       "    </tr>\n",
       "  </thead>\n",
       "  <tbody>\n",
       "    <tr>\n",
       "      <th>2015-01-01</th>\n",
       "      <td>11358.0</td>\n",
       "      <td>40.751847</td>\n",
       "      <td>-73.787862</td>\n",
       "      <td>0</td>\n",
       "      <td>0</td>\n",
       "      <td>0</td>\n",
       "      <td>0</td>\n",
       "      <td>0</td>\n",
       "      <td>0</td>\n",
       "      <td>0</td>\n",
       "      <td>0</td>\n",
       "      <td>0</td>\n",
       "      <td>0</td>\n",
       "      <td>0</td>\n",
       "      <td>3.0</td>\n",
       "    </tr>\n",
       "    <tr>\n",
       "      <th>2015-01-01</th>\n",
       "      <td>11205.0</td>\n",
       "      <td>40.689445</td>\n",
       "      <td>-73.955121</td>\n",
       "      <td>0</td>\n",
       "      <td>0</td>\n",
       "      <td>0</td>\n",
       "      <td>0</td>\n",
       "      <td>0</td>\n",
       "      <td>0</td>\n",
       "      <td>0</td>\n",
       "      <td>0</td>\n",
       "      <td>0</td>\n",
       "      <td>0</td>\n",
       "      <td>0</td>\n",
       "      <td>4.0</td>\n",
       "    </tr>\n",
       "    <tr>\n",
       "      <th>2015-01-01</th>\n",
       "      <td>11213.0</td>\n",
       "      <td>40.673845</td>\n",
       "      <td>-73.925080</td>\n",
       "      <td>0</td>\n",
       "      <td>0</td>\n",
       "      <td>0</td>\n",
       "      <td>0</td>\n",
       "      <td>0</td>\n",
       "      <td>0</td>\n",
       "      <td>0</td>\n",
       "      <td>0</td>\n",
       "      <td>0</td>\n",
       "      <td>0</td>\n",
       "      <td>0</td>\n",
       "      <td>4.0</td>\n",
       "    </tr>\n",
       "    <tr>\n",
       "      <th>2015-01-01</th>\n",
       "      <td>11203.0</td>\n",
       "      <td>40.656684</td>\n",
       "      <td>-73.929896</td>\n",
       "      <td>2</td>\n",
       "      <td>0</td>\n",
       "      <td>0</td>\n",
       "      <td>0</td>\n",
       "      <td>0</td>\n",
       "      <td>0</td>\n",
       "      <td>2</td>\n",
       "      <td>0</td>\n",
       "      <td>0</td>\n",
       "      <td>4</td>\n",
       "      <td>4</td>\n",
       "      <td>4.0</td>\n",
       "    </tr>\n",
       "    <tr>\n",
       "      <th>2015-01-01</th>\n",
       "      <td>11105.0</td>\n",
       "      <td>40.776519</td>\n",
       "      <td>-73.915920</td>\n",
       "      <td>0</td>\n",
       "      <td>0</td>\n",
       "      <td>0</td>\n",
       "      <td>0</td>\n",
       "      <td>0</td>\n",
       "      <td>0</td>\n",
       "      <td>0</td>\n",
       "      <td>0</td>\n",
       "      <td>0</td>\n",
       "      <td>0</td>\n",
       "      <td>0</td>\n",
       "      <td>3.0</td>\n",
       "    </tr>\n",
       "  </tbody>\n",
       "</table>\n",
       "</div>"
      ],
      "text/plain": [
       "            ZIP CODE   LATITUDE  LONGITUDE  PERSONS INJURED  PERSONS KILLED  \\\n",
       "DATE                                                                          \n",
       "2015-01-01   11358.0  40.751847 -73.787862                0               0   \n",
       "2015-01-01   11205.0  40.689445 -73.955121                0               0   \n",
       "2015-01-01   11213.0  40.673845 -73.925080                0               0   \n",
       "2015-01-01   11203.0  40.656684 -73.929896                2               0   \n",
       "2015-01-01   11105.0  40.776519 -73.915920                0               0   \n",
       "\n",
       "            PEDESTRIANS INJURED  PEDESTRIANS KILLED  CYCLISTS INJURED  \\\n",
       "DATE                                                                    \n",
       "2015-01-01                    0                   0                 0   \n",
       "2015-01-01                    0                   0                 0   \n",
       "2015-01-01                    0                   0                 0   \n",
       "2015-01-01                    0                   0                 0   \n",
       "2015-01-01                    0                   0                 0   \n",
       "\n",
       "            CYCLISTS KILLED  MOTORISTS INJURED  MOTORISTS KILLED  \\\n",
       "DATE                                                               \n",
       "2015-01-01                0                  0                 0   \n",
       "2015-01-01                0                  0                 0   \n",
       "2015-01-01                0                  0                 0   \n",
       "2015-01-01                0                  2                 0   \n",
       "2015-01-01                0                  0                 0   \n",
       "\n",
       "            Total_fatalities  Total_injured  Total_victims  New_Borough  \n",
       "DATE                                                                     \n",
       "2015-01-01                 0              0              0          3.0  \n",
       "2015-01-01                 0              0              0          4.0  \n",
       "2015-01-01                 0              0              0          4.0  \n",
       "2015-01-01                 0              4              4          4.0  \n",
       "2015-01-01                 0              0              0          3.0  "
      ]
     },
     "execution_count": 129,
     "metadata": {},
     "output_type": "execute_result"
    }
   ],
   "source": [
    "def wrangle(filepath):\n",
    "  df = pd.read_csv(filepath, parse_dates=['DATE'], index_col='DATE')\n",
    "\n",
    "  # Drop Columns with a high number of NaNs\n",
    "  df.dropna(axis=1, thresh=300, inplace=True)\n",
    " \n",
    "  # High Cardinality Categorical Columns\n",
    "  categorical_cols = df.select_dtypes('object').columns\n",
    "  threshold = 10\n",
    "  high_card_cols = [col for col in categorical_cols if df[col].nunique() > threshold]\n",
    "  df.drop(high_card_cols, axis=1, inplace=True)\n",
    "  \n",
    "  #Feature engineering \n",
    "  df['Total_fatalities'] = df['PERSONS KILLED'] + df['PEDESTRIANS KILLED'] + df['CYCLISTS KILLED'] + df['MOTORISTS KILLED']\n",
    "  df['Total_injured'] = df['PERSONS INJURED'] + df['PEDESTRIANS INJURED'] + df['CYCLISTS INJURED'] + df['MOTORISTS INJURED']\n",
    "  df['Total_victims'] = df['Total_fatalities'] + df['Total_injured']\n",
    "  df['New_Borough'] = df['BOROUGH'].replace({'STATEN ISLAND':0, 'BRONX':1, 'MANHATTAN':2, 'QUEENS':3,'BROOKLYN':4})\n",
    "  \n",
    "  # Drop 'UNIQUE KEY' column\n",
    "  df = df.drop(columns='UNIQUE KEY')\n",
    "  df = df.drop(columns='BOROUGH')\n",
    "      \n",
    "  df = df.dropna(axis=0, subset=['ZIP CODE'])\n",
    "  df = df.dropna(axis=0, subset=['LATITUDE'])\n",
    "  df = df.dropna(axis=0, subset=['LONGITUDE'])\n",
    "  return df\n",
    "\n",
    "df = wrangle(DATA_PATH+'database.csv')  \n",
    "\n",
    "print(df.shape)\n",
    "df.head()"
   ]
  },
  {
   "cell_type": "code",
   "execution_count": null,
   "metadata": {},
   "outputs": [],
   "source": [
    "#hcc= ['LOCATION', 'ON STREET NAME', 'CROSS STREET NAME', 'OFF STREET NAME',]"
   ]
  },
  {
   "cell_type": "code",
   "execution_count": 125,
   "metadata": {},
   "outputs": [
    {
     "data": {
      "text/plain": [
       "Index(['ZIP CODE', 'LATITUDE', 'LONGITUDE', 'PERSONS INJURED',\n",
       "       'PERSONS KILLED', 'PEDESTRIANS INJURED', 'PEDESTRIANS KILLED',\n",
       "       'CYCLISTS INJURED', 'CYCLISTS KILLED', 'MOTORISTS INJURED',\n",
       "       'MOTORISTS KILLED', 'Total_fatalities', 'Total_injured',\n",
       "       'Total_victims', 'New_Borough'],\n",
       "      dtype='object')"
      ]
     },
     "execution_count": 125,
     "metadata": {},
     "output_type": "execute_result"
    }
   ],
   "source": [
    "df.columns"
   ]
  },
  {
   "cell_type": "code",
   "execution_count": 58,
   "metadata": {},
   "outputs": [],
   "source": [
    "#df['BOROUGH'].value_counts()"
   ]
  },
  {
   "cell_type": "code",
   "execution_count": 130,
   "metadata": {},
   "outputs": [
    {
     "data": {
      "text/plain": [
       "ZIP CODE               0\n",
       "LATITUDE               0\n",
       "LONGITUDE              0\n",
       "PERSONS INJURED        0\n",
       "PERSONS KILLED         0\n",
       "PEDESTRIANS INJURED    0\n",
       "PEDESTRIANS KILLED     0\n",
       "CYCLISTS INJURED       0\n",
       "CYCLISTS KILLED        0\n",
       "MOTORISTS INJURED      0\n",
       "MOTORISTS KILLED       0\n",
       "Total_fatalities       0\n",
       "Total_injured          0\n",
       "Total_victims          0\n",
       "New_Borough            0\n",
       "dtype: int64"
      ]
     },
     "execution_count": 130,
     "metadata": {},
     "output_type": "execute_result"
    }
   ],
   "source": [
    "# no missing values \n",
    "df.isnull().sum()"
   ]
  },
  {
   "cell_type": "code",
   "execution_count": 54,
   "metadata": {},
   "outputs": [],
   "source": [
    "#df['New_Borough'] = df['BOROUGH'].replace({'STATEN ISLAND':0, 'BRONX':1, 'MANHATTAN':2, 'QUEENS':3,'BROOKLYN':4})"
   ]
  },
  {
   "cell_type": "code",
   "execution_count": 131,
   "metadata": {},
   "outputs": [
    {
     "data": {
      "text/html": [
       "<div>\n",
       "<style scoped>\n",
       "    .dataframe tbody tr th:only-of-type {\n",
       "        vertical-align: middle;\n",
       "    }\n",
       "\n",
       "    .dataframe tbody tr th {\n",
       "        vertical-align: top;\n",
       "    }\n",
       "\n",
       "    .dataframe thead th {\n",
       "        text-align: right;\n",
       "    }\n",
       "</style>\n",
       "<table border=\"1\" class=\"dataframe\">\n",
       "  <thead>\n",
       "    <tr style=\"text-align: right;\">\n",
       "      <th></th>\n",
       "      <th>ZIP CODE</th>\n",
       "      <th>LATITUDE</th>\n",
       "      <th>LONGITUDE</th>\n",
       "      <th>PERSONS INJURED</th>\n",
       "      <th>PERSONS KILLED</th>\n",
       "      <th>PEDESTRIANS INJURED</th>\n",
       "      <th>PEDESTRIANS KILLED</th>\n",
       "      <th>CYCLISTS INJURED</th>\n",
       "      <th>CYCLISTS KILLED</th>\n",
       "      <th>MOTORISTS INJURED</th>\n",
       "      <th>MOTORISTS KILLED</th>\n",
       "      <th>Total_fatalities</th>\n",
       "      <th>Total_injured</th>\n",
       "      <th>Total_victims</th>\n",
       "      <th>New_Borough</th>\n",
       "    </tr>\n",
       "    <tr>\n",
       "      <th>DATE</th>\n",
       "      <th></th>\n",
       "      <th></th>\n",
       "      <th></th>\n",
       "      <th></th>\n",
       "      <th></th>\n",
       "      <th></th>\n",
       "      <th></th>\n",
       "      <th></th>\n",
       "      <th></th>\n",
       "      <th></th>\n",
       "      <th></th>\n",
       "      <th></th>\n",
       "      <th></th>\n",
       "      <th></th>\n",
       "      <th></th>\n",
       "    </tr>\n",
       "  </thead>\n",
       "  <tbody>\n",
       "    <tr>\n",
       "      <th>2015-01-01</th>\n",
       "      <td>11358.0</td>\n",
       "      <td>40.751847</td>\n",
       "      <td>-73.787862</td>\n",
       "      <td>0</td>\n",
       "      <td>0</td>\n",
       "      <td>0</td>\n",
       "      <td>0</td>\n",
       "      <td>0</td>\n",
       "      <td>0</td>\n",
       "      <td>0</td>\n",
       "      <td>0</td>\n",
       "      <td>0</td>\n",
       "      <td>0</td>\n",
       "      <td>0</td>\n",
       "      <td>3.0</td>\n",
       "    </tr>\n",
       "    <tr>\n",
       "      <th>2015-01-01</th>\n",
       "      <td>11205.0</td>\n",
       "      <td>40.689445</td>\n",
       "      <td>-73.955121</td>\n",
       "      <td>0</td>\n",
       "      <td>0</td>\n",
       "      <td>0</td>\n",
       "      <td>0</td>\n",
       "      <td>0</td>\n",
       "      <td>0</td>\n",
       "      <td>0</td>\n",
       "      <td>0</td>\n",
       "      <td>0</td>\n",
       "      <td>0</td>\n",
       "      <td>0</td>\n",
       "      <td>4.0</td>\n",
       "    </tr>\n",
       "    <tr>\n",
       "      <th>2015-01-01</th>\n",
       "      <td>11213.0</td>\n",
       "      <td>40.673845</td>\n",
       "      <td>-73.925080</td>\n",
       "      <td>0</td>\n",
       "      <td>0</td>\n",
       "      <td>0</td>\n",
       "      <td>0</td>\n",
       "      <td>0</td>\n",
       "      <td>0</td>\n",
       "      <td>0</td>\n",
       "      <td>0</td>\n",
       "      <td>0</td>\n",
       "      <td>0</td>\n",
       "      <td>0</td>\n",
       "      <td>4.0</td>\n",
       "    </tr>\n",
       "    <tr>\n",
       "      <th>2015-01-01</th>\n",
       "      <td>11203.0</td>\n",
       "      <td>40.656684</td>\n",
       "      <td>-73.929896</td>\n",
       "      <td>2</td>\n",
       "      <td>0</td>\n",
       "      <td>0</td>\n",
       "      <td>0</td>\n",
       "      <td>0</td>\n",
       "      <td>0</td>\n",
       "      <td>2</td>\n",
       "      <td>0</td>\n",
       "      <td>0</td>\n",
       "      <td>4</td>\n",
       "      <td>4</td>\n",
       "      <td>4.0</td>\n",
       "    </tr>\n",
       "    <tr>\n",
       "      <th>2015-01-01</th>\n",
       "      <td>11105.0</td>\n",
       "      <td>40.776519</td>\n",
       "      <td>-73.915920</td>\n",
       "      <td>0</td>\n",
       "      <td>0</td>\n",
       "      <td>0</td>\n",
       "      <td>0</td>\n",
       "      <td>0</td>\n",
       "      <td>0</td>\n",
       "      <td>0</td>\n",
       "      <td>0</td>\n",
       "      <td>0</td>\n",
       "      <td>0</td>\n",
       "      <td>0</td>\n",
       "      <td>3.0</td>\n",
       "    </tr>\n",
       "  </tbody>\n",
       "</table>\n",
       "</div>"
      ],
      "text/plain": [
       "            ZIP CODE   LATITUDE  LONGITUDE  PERSONS INJURED  PERSONS KILLED  \\\n",
       "DATE                                                                          \n",
       "2015-01-01   11358.0  40.751847 -73.787862                0               0   \n",
       "2015-01-01   11205.0  40.689445 -73.955121                0               0   \n",
       "2015-01-01   11213.0  40.673845 -73.925080                0               0   \n",
       "2015-01-01   11203.0  40.656684 -73.929896                2               0   \n",
       "2015-01-01   11105.0  40.776519 -73.915920                0               0   \n",
       "\n",
       "            PEDESTRIANS INJURED  PEDESTRIANS KILLED  CYCLISTS INJURED  \\\n",
       "DATE                                                                    \n",
       "2015-01-01                    0                   0                 0   \n",
       "2015-01-01                    0                   0                 0   \n",
       "2015-01-01                    0                   0                 0   \n",
       "2015-01-01                    0                   0                 0   \n",
       "2015-01-01                    0                   0                 0   \n",
       "\n",
       "            CYCLISTS KILLED  MOTORISTS INJURED  MOTORISTS KILLED  \\\n",
       "DATE                                                               \n",
       "2015-01-01                0                  0                 0   \n",
       "2015-01-01                0                  0                 0   \n",
       "2015-01-01                0                  0                 0   \n",
       "2015-01-01                0                  2                 0   \n",
       "2015-01-01                0                  0                 0   \n",
       "\n",
       "            Total_fatalities  Total_injured  Total_victims  New_Borough  \n",
       "DATE                                                                     \n",
       "2015-01-01                 0              0              0          3.0  \n",
       "2015-01-01                 0              0              0          4.0  \n",
       "2015-01-01                 0              0              0          4.0  \n",
       "2015-01-01                 0              4              4          4.0  \n",
       "2015-01-01                 0              0              0          3.0  "
      ]
     },
     "execution_count": 131,
     "metadata": {},
     "output_type": "execute_result"
    }
   ],
   "source": [
    "df.head(5)"
   ]
  },
  {
   "cell_type": "markdown",
   "metadata": {},
   "source": [
    "## Split The Data "
   ]
  },
  {
   "cell_type": "code",
   "execution_count": 140,
   "metadata": {},
   "outputs": [],
   "source": [
    "target= 'New_Borough'\n",
    "y = df[target]\n",
    "X = df.drop(columns= target)"
   ]
  },
  {
   "cell_type": "code",
   "execution_count": 141,
   "metadata": {},
   "outputs": [],
   "source": [
    "\n",
    "X_train, X_val, y_train, y_val = train_test_split(X, y, test_size=0.33, random_state=42)"
   ]
  },
  {
   "cell_type": "code",
   "execution_count": 142,
   "metadata": {},
   "outputs": [],
   "source": [
    "# Sanity check\n",
    "assert len(X_train) + len(X_val) == len(X)"
   ]
  },
  {
   "cell_type": "markdown",
   "metadata": {},
   "source": [
    "## Establish Baseline"
   ]
  },
  {
   "cell_type": "code",
   "execution_count": 91,
   "metadata": {},
   "outputs": [
    {
     "data": {
      "text/plain": [
       "4.0    0.311887\n",
       "3.0    0.263093\n",
       "2.0    0.248726\n",
       "1.0    0.135225\n",
       "0.0    0.041069\n",
       "Name: New_Borough, dtype: float64"
      ]
     },
     "execution_count": 91,
     "metadata": {},
     "output_type": "execute_result"
    }
   ],
   "source": [
    "y_train.value_counts(normalize=True)"
   ]
  },
  {
   "cell_type": "code",
   "execution_count": 90,
   "metadata": {},
   "outputs": [
    {
     "name": "stdout",
     "output_type": "stream",
     "text": [
      "Baseline Accuracy 0.3118867605497717\n"
     ]
    }
   ],
   "source": [
    "# Common class is the baseline\n",
    "print(\"Baseline Accuracy\", y_train.value_counts(normalize=True).max())"
   ]
  },
  {
   "cell_type": "markdown",
   "metadata": {},
   "source": [
    "## Build Model"
   ]
  },
  {
   "cell_type": "code",
   "execution_count": 94,
   "metadata": {},
   "outputs": [
    {
     "data": {
      "text/plain": [
       "Pipeline(steps=[('ordinalencoder', OrdinalEncoder()),\n",
       "                ('simpleimputer', SimpleImputer()),\n",
       "                ('decisiontreeclassifier', DecisionTreeClassifier())])"
      ]
     },
     "execution_count": 94,
     "metadata": {},
     "output_type": "execute_result"
    }
   ],
   "source": [
    "df_model = make_pipeline(OrdinalEncoder(), \n",
    "                         SimpleImputer(), \n",
    "                         DecisionTreeClassifier())\n",
    "\n",
    "df_model.fit(X_train, y_train)"
   ]
  },
  {
   "cell_type": "code",
   "execution_count": 97,
   "metadata": {},
   "outputs": [
    {
     "data": {
      "text/plain": [
       "Pipeline(steps=[('ordinalencoder', OrdinalEncoder()),\n",
       "                ('simpleimputer', SimpleImputer()),\n",
       "                ('randomforestclassifier', RandomForestClassifier())])"
      ]
     },
     "execution_count": 97,
     "metadata": {},
     "output_type": "execute_result"
    }
   ],
   "source": [
    "model_rf = make_pipeline(OrdinalEncoder(), \n",
    "                         SimpleImputer(), \n",
    "                         RandomForestClassifier())\n",
    "\n",
    "model_rf.fit(X_train, y_train)\n",
    "model_rf"
   ]
  },
  {
   "cell_type": "markdown",
   "metadata": {},
   "source": [
    "## Make sure there is no leakeage"
   ]
  },
  {
   "cell_type": "code",
   "execution_count": 143,
   "metadata": {},
   "outputs": [
    {
     "data": {
      "image/png": "[encoded data removed]",
      "text/plain": [
       "<Figure size 432x288 with 1 Axes>"
      ]
     },
     "metadata": {
      "needs_background": "light"
     },
     "output_type": "display_data"
    }
   ],
   "source": [
    "importances = model.named_steps['randomforestclassifier'].feature_importances_\n",
    "features = X_train.columns\n",
    "pd.Series(importances,index=features).sort_values().tail(3).plot(kind='barh');"
   ]
  },
  {
   "cell_type": "markdown",
   "metadata": {},
   "source": [
    "## Tune Model"
   ]
  },
  {
   "cell_type": "code",
   "execution_count": 112,
   "metadata": {},
   "outputs": [],
   "source": [
    "model = make_pipeline(\n",
    "    OrdinalEncoder(),\n",
    "    SimpleImputer(),\n",
    "    RandomForestClassifier(n_estimators=25,\n",
    "                           n_jobs=-1,\n",
    "                           random_state=42)\n",
    ")\n",
    "\n",
    "model.fit(X_train, y_train);"
   ]
  },
  {
   "cell_type": "code",
   "execution_count": 146,
   "metadata": {},
   "outputs": [
    {
     "name": "stdout",
     "output_type": "stream",
     "text": [
      "Training Accuracy: 0.9997681103408295\n"
     ]
    },
    {
     "ename": "ValueError",
     "evalue": "Found unknown categories [10155.0, 10167.0, 10278.0] in column 0 during transform",
     "output_type": "error",
     "traceback": [
      "\u001b[1;31m---------------------------------------------------------------------------\u001b[0m",
      "\u001b[1;31mValueError\u001b[0m                                Traceback (most recent call last)",
      "\u001b[1;32m~\\AppData\\Local\\Temp/ipykernel_1408/13773914.py\u001b[0m in \u001b[0;36m<module>\u001b[1;34m\u001b[0m\n\u001b[0;32m      1\u001b[0m \u001b[0mprint\u001b[0m\u001b[1;33m(\u001b[0m\u001b[1;34m'Training Accuracy:'\u001b[0m\u001b[1;33m,\u001b[0m \u001b[0mmodel\u001b[0m\u001b[1;33m.\u001b[0m\u001b[0mscore\u001b[0m\u001b[1;33m(\u001b[0m\u001b[0mX_train\u001b[0m\u001b[1;33m,\u001b[0m \u001b[0my_train\u001b[0m\u001b[1;33m)\u001b[0m \u001b[1;33m)\u001b[0m\u001b[1;33m\u001b[0m\u001b[1;33m\u001b[0m\u001b[0m\n\u001b[1;32m----> 2\u001b[1;33m \u001b[0mprint\u001b[0m\u001b[1;33m(\u001b[0m\u001b[1;34m'Validation Accuracy:'\u001b[0m\u001b[1;33m,\u001b[0m\u001b[0mmodel\u001b[0m\u001b[1;33m.\u001b[0m\u001b[0mscore\u001b[0m\u001b[1;33m(\u001b[0m\u001b[0mX_val\u001b[0m\u001b[1;33m,\u001b[0m \u001b[0my_val\u001b[0m\u001b[1;33m)\u001b[0m \u001b[1;33m)\u001b[0m\u001b[1;33m\u001b[0m\u001b[1;33m\u001b[0m\u001b[0m\n\u001b[0m",
      "\u001b[1;32m~\\anaconda3\\envs\\unit2\\lib\\site-packages\\sklearn\\utils\\metaestimators.py\u001b[0m in \u001b[0;36m<lambda>\u001b[1;34m(*args, **kwargs)\u001b[0m\n\u001b[0;32m    118\u001b[0m \u001b[1;33m\u001b[0m\u001b[0m\n\u001b[0;32m    119\u001b[0m         \u001b[1;31m# lambda, but not partial, allows help() to work with update_wrapper\u001b[0m\u001b[1;33m\u001b[0m\u001b[1;33m\u001b[0m\u001b[1;33m\u001b[0m\u001b[0m\n\u001b[1;32m--> 120\u001b[1;33m         \u001b[0mout\u001b[0m \u001b[1;33m=\u001b[0m \u001b[1;32mlambda\u001b[0m \u001b[1;33m*\u001b[0m\u001b[0margs\u001b[0m\u001b[1;33m,\u001b[0m \u001b[1;33m**\u001b[0m\u001b[0mkwargs\u001b[0m\u001b[1;33m:\u001b[0m \u001b[0mself\u001b[0m\u001b[1;33m.\u001b[0m\u001b[0mfn\u001b[0m\u001b[1;33m(\u001b[0m\u001b[0mobj\u001b[0m\u001b[1;33m,\u001b[0m \u001b[1;33m*\u001b[0m\u001b[0margs\u001b[0m\u001b[1;33m,\u001b[0m \u001b[1;33m**\u001b[0m\u001b[0mkwargs\u001b[0m\u001b[1;33m)\u001b[0m\u001b[1;33m\u001b[0m\u001b[1;33m\u001b[0m\u001b[0m\n\u001b[0m\u001b[0;32m    121\u001b[0m         \u001b[1;31m# update the docstring of the returned function\u001b[0m\u001b[1;33m\u001b[0m\u001b[1;33m\u001b[0m\u001b[1;33m\u001b[0m\u001b[0m\n\u001b[0;32m    122\u001b[0m         \u001b[0mupdate_wrapper\u001b[0m\u001b[1;33m(\u001b[0m\u001b[0mout\u001b[0m\u001b[1;33m,\u001b[0m \u001b[0mself\u001b[0m\u001b[1;33m.\u001b[0m\u001b[0mfn\u001b[0m\u001b[1;33m)\u001b[0m\u001b[1;33m\u001b[0m\u001b[1;33m\u001b[0m\u001b[0m\n",
      "\u001b[1;32m~\\anaconda3\\envs\\unit2\\lib\\site-packages\\sklearn\\pipeline.py\u001b[0m in \u001b[0;36mscore\u001b[1;34m(self, X, y, sample_weight)\u001b[0m\n\u001b[0;32m    616\u001b[0m         \u001b[0mXt\u001b[0m \u001b[1;33m=\u001b[0m \u001b[0mX\u001b[0m\u001b[1;33m\u001b[0m\u001b[1;33m\u001b[0m\u001b[0m\n\u001b[0;32m    617\u001b[0m         \u001b[1;32mfor\u001b[0m \u001b[0m_\u001b[0m\u001b[1;33m,\u001b[0m \u001b[0mname\u001b[0m\u001b[1;33m,\u001b[0m \u001b[0mtransform\u001b[0m \u001b[1;32min\u001b[0m \u001b[0mself\u001b[0m\u001b[1;33m.\u001b[0m\u001b[0m_iter\u001b[0m\u001b[1;33m(\u001b[0m\u001b[0mwith_final\u001b[0m\u001b[1;33m=\u001b[0m\u001b[1;32mFalse\u001b[0m\u001b[1;33m)\u001b[0m\u001b[1;33m:\u001b[0m\u001b[1;33m\u001b[0m\u001b[1;33m\u001b[0m\u001b[0m\n\u001b[1;32m--> 618\u001b[1;33m             \u001b[0mXt\u001b[0m \u001b[1;33m=\u001b[0m \u001b[0mtransform\u001b[0m\u001b[1;33m.\u001b[0m\u001b[0mtransform\u001b[0m\u001b[1;33m(\u001b[0m\u001b[0mXt\u001b[0m\u001b[1;33m)\u001b[0m\u001b[1;33m\u001b[0m\u001b[1;33m\u001b[0m\u001b[0m\n\u001b[0m\u001b[0;32m    619\u001b[0m         \u001b[0mscore_params\u001b[0m \u001b[1;33m=\u001b[0m \u001b[1;33m{\u001b[0m\u001b[1;33m}\u001b[0m\u001b[1;33m\u001b[0m\u001b[1;33m\u001b[0m\u001b[0m\n\u001b[0;32m    620\u001b[0m         \u001b[1;32mif\u001b[0m \u001b[0msample_weight\u001b[0m \u001b[1;32mis\u001b[0m \u001b[1;32mnot\u001b[0m \u001b[1;32mNone\u001b[0m\u001b[1;33m:\u001b[0m\u001b[1;33m\u001b[0m\u001b[1;33m\u001b[0m\u001b[0m\n",
      "\u001b[1;32m~\\anaconda3\\envs\\unit2\\lib\\site-packages\\sklearn\\preprocessing\\_encoders.py\u001b[0m in \u001b[0;36mtransform\u001b[1;34m(self, X)\u001b[0m\n\u001b[0;32m    803\u001b[0m             \u001b[0mTransformed\u001b[0m \u001b[0minput\u001b[0m\u001b[1;33m.\u001b[0m\u001b[1;33m\u001b[0m\u001b[1;33m\u001b[0m\u001b[0m\n\u001b[0;32m    804\u001b[0m         \"\"\"\n\u001b[1;32m--> 805\u001b[1;33m         \u001b[0mX_int\u001b[0m\u001b[1;33m,\u001b[0m \u001b[0mX_mask\u001b[0m \u001b[1;33m=\u001b[0m \u001b[0mself\u001b[0m\u001b[1;33m.\u001b[0m\u001b[0m_transform\u001b[0m\u001b[1;33m(\u001b[0m\u001b[0mX\u001b[0m\u001b[1;33m,\u001b[0m \u001b[0mhandle_unknown\u001b[0m\u001b[1;33m=\u001b[0m\u001b[0mself\u001b[0m\u001b[1;33m.\u001b[0m\u001b[0mhandle_unknown\u001b[0m\u001b[1;33m)\u001b[0m\u001b[1;33m\u001b[0m\u001b[1;33m\u001b[0m\u001b[0m\n\u001b[0m\u001b[0;32m    806\u001b[0m         \u001b[0mX_trans\u001b[0m \u001b[1;33m=\u001b[0m \u001b[0mX_int\u001b[0m\u001b[1;33m.\u001b[0m\u001b[0mastype\u001b[0m\u001b[1;33m(\u001b[0m\u001b[0mself\u001b[0m\u001b[1;33m.\u001b[0m\u001b[0mdtype\u001b[0m\u001b[1;33m,\u001b[0m \u001b[0mcopy\u001b[0m\u001b[1;33m=\u001b[0m\u001b[1;32mFalse\u001b[0m\u001b[1;33m)\u001b[0m\u001b[1;33m\u001b[0m\u001b[1;33m\u001b[0m\u001b[0m\n\u001b[0;32m    807\u001b[0m \u001b[1;33m\u001b[0m\u001b[0m\n",
      "\u001b[1;32m~\\anaconda3\\envs\\unit2\\lib\\site-packages\\sklearn\\preprocessing\\_encoders.py\u001b[0m in \u001b[0;36m_transform\u001b[1;34m(self, X, handle_unknown, force_all_finite)\u001b[0m\n\u001b[0;32m    134\u001b[0m                     msg = (\"Found unknown categories {0} in column {1}\"\n\u001b[0;32m    135\u001b[0m                            \" during transform\".format(diff, i))\n\u001b[1;32m--> 136\u001b[1;33m                     \u001b[1;32mraise\u001b[0m \u001b[0mValueError\u001b[0m\u001b[1;33m(\u001b[0m\u001b[0mmsg\u001b[0m\u001b[1;33m)\u001b[0m\u001b[1;33m\u001b[0m\u001b[1;33m\u001b[0m\u001b[0m\n\u001b[0m\u001b[0;32m    137\u001b[0m                 \u001b[1;32melse\u001b[0m\u001b[1;33m:\u001b[0m\u001b[1;33m\u001b[0m\u001b[1;33m\u001b[0m\u001b[0m\n\u001b[0;32m    138\u001b[0m                     \u001b[1;31m# Set the problematic rows to an acceptable value and\u001b[0m\u001b[1;33m\u001b[0m\u001b[1;33m\u001b[0m\u001b[1;33m\u001b[0m\u001b[0m\n",
      "\u001b[1;31mValueError\u001b[0m: Found unknown categories [10155.0, 10167.0, 10278.0] in column 0 during transform"
     ]
    }
   ],
   "source": [
    "print('Training Accuracy:', model.score(X_train, y_train) )\n",
    "print('Validation Accuracy:',model.score(X_val, y_val) )"
   ]
  },
  {
   "cell_type": "code",
   "execution_count": 148,
   "metadata": {},
   "outputs": [
    {
     "ename": "ValueError",
     "evalue": "Found unknown categories [10155.0, 10167.0, 10278.0] in column 0 during transform",
     "output_type": "error",
     "traceback": [
      "\u001b[1;31m---------------------------------------------------------------------------\u001b[0m",
      "\u001b[1;31mValueError\u001b[0m                                Traceback (most recent call last)",
      "\u001b[1;32m~\\AppData\\Local\\Temp/ipykernel_1408/2947361871.py\u001b[0m in \u001b[0;36m<module>\u001b[1;34m\u001b[0m\n\u001b[0;32m      4\u001b[0m     \u001b[0my_val\u001b[0m\u001b[1;33m,\u001b[0m\u001b[1;33m\u001b[0m\u001b[1;33m\u001b[0m\u001b[0m\n\u001b[0;32m      5\u001b[0m     \u001b[0mvalues_format\u001b[0m \u001b[1;33m=\u001b[0m \u001b[1;34m'.0f'\u001b[0m\u001b[1;33m,\u001b[0m\u001b[1;33m\u001b[0m\u001b[1;33m\u001b[0m\u001b[0m\n\u001b[1;32m----> 6\u001b[1;33m     display_labels = ['no repairs needed','needs repairs'])\n\u001b[0m",
      "\u001b[1;32m~\\anaconda3\\envs\\unit2\\lib\\site-packages\\sklearn\\utils\\validation.py\u001b[0m in \u001b[0;36minner_f\u001b[1;34m(*args, **kwargs)\u001b[0m\n\u001b[0;32m     61\u001b[0m             \u001b[0mextra_args\u001b[0m \u001b[1;33m=\u001b[0m \u001b[0mlen\u001b[0m\u001b[1;33m(\u001b[0m\u001b[0margs\u001b[0m\u001b[1;33m)\u001b[0m \u001b[1;33m-\u001b[0m \u001b[0mlen\u001b[0m\u001b[1;33m(\u001b[0m\u001b[0mall_args\u001b[0m\u001b[1;33m)\u001b[0m\u001b[1;33m\u001b[0m\u001b[1;33m\u001b[0m\u001b[0m\n\u001b[0;32m     62\u001b[0m             \u001b[1;32mif\u001b[0m \u001b[0mextra_args\u001b[0m \u001b[1;33m<=\u001b[0m \u001b[1;36m0\u001b[0m\u001b[1;33m:\u001b[0m\u001b[1;33m\u001b[0m\u001b[1;33m\u001b[0m\u001b[0m\n\u001b[1;32m---> 63\u001b[1;33m                 \u001b[1;32mreturn\u001b[0m \u001b[0mf\u001b[0m\u001b[1;33m(\u001b[0m\u001b[1;33m*\u001b[0m\u001b[0margs\u001b[0m\u001b[1;33m,\u001b[0m \u001b[1;33m**\u001b[0m\u001b[0mkwargs\u001b[0m\u001b[1;33m)\u001b[0m\u001b[1;33m\u001b[0m\u001b[1;33m\u001b[0m\u001b[0m\n\u001b[0m\u001b[0;32m     64\u001b[0m \u001b[1;33m\u001b[0m\u001b[0m\n\u001b[0;32m     65\u001b[0m             \u001b[1;31m# extra_args > 0\u001b[0m\u001b[1;33m\u001b[0m\u001b[1;33m\u001b[0m\u001b[1;33m\u001b[0m\u001b[0m\n",
      "\u001b[1;32m~\\anaconda3\\envs\\unit2\\lib\\site-packages\\sklearn\\metrics\\_plot\\confusion_matrix.py\u001b[0m in \u001b[0;36mplot_confusion_matrix\u001b[1;34m(estimator, X, y_true, labels, sample_weight, normalize, display_labels, include_values, xticks_rotation, values_format, cmap, ax, colorbar)\u001b[0m\n\u001b[0;32m    261\u001b[0m         \u001b[1;32mraise\u001b[0m \u001b[0mValueError\u001b[0m\u001b[1;33m(\u001b[0m\u001b[1;34m\"plot_confusion_matrix only supports classifiers\"\u001b[0m\u001b[1;33m)\u001b[0m\u001b[1;33m\u001b[0m\u001b[1;33m\u001b[0m\u001b[0m\n\u001b[0;32m    262\u001b[0m \u001b[1;33m\u001b[0m\u001b[0m\n\u001b[1;32m--> 263\u001b[1;33m     \u001b[0my_pred\u001b[0m \u001b[1;33m=\u001b[0m \u001b[0mestimator\u001b[0m\u001b[1;33m.\u001b[0m\u001b[0mpredict\u001b[0m\u001b[1;33m(\u001b[0m\u001b[0mX\u001b[0m\u001b[1;33m)\u001b[0m\u001b[1;33m\u001b[0m\u001b[1;33m\u001b[0m\u001b[0m\n\u001b[0m\u001b[0;32m    264\u001b[0m     cm = confusion_matrix(y_true, y_pred, sample_weight=sample_weight,\n\u001b[0;32m    265\u001b[0m                           labels=labels, normalize=normalize)\n",
      "\u001b[1;32m~\\anaconda3\\envs\\unit2\\lib\\site-packages\\sklearn\\utils\\metaestimators.py\u001b[0m in \u001b[0;36m<lambda>\u001b[1;34m(*args, **kwargs)\u001b[0m\n\u001b[0;32m    118\u001b[0m \u001b[1;33m\u001b[0m\u001b[0m\n\u001b[0;32m    119\u001b[0m         \u001b[1;31m# lambda, but not partial, allows help() to work with update_wrapper\u001b[0m\u001b[1;33m\u001b[0m\u001b[1;33m\u001b[0m\u001b[1;33m\u001b[0m\u001b[0m\n\u001b[1;32m--> 120\u001b[1;33m         \u001b[0mout\u001b[0m \u001b[1;33m=\u001b[0m \u001b[1;32mlambda\u001b[0m \u001b[1;33m*\u001b[0m\u001b[0margs\u001b[0m\u001b[1;33m,\u001b[0m \u001b[1;33m**\u001b[0m\u001b[0mkwargs\u001b[0m\u001b[1;33m:\u001b[0m \u001b[0mself\u001b[0m\u001b[1;33m.\u001b[0m\u001b[0mfn\u001b[0m\u001b[1;33m(\u001b[0m\u001b[0mobj\u001b[0m\u001b[1;33m,\u001b[0m \u001b[1;33m*\u001b[0m\u001b[0margs\u001b[0m\u001b[1;33m,\u001b[0m \u001b[1;33m**\u001b[0m\u001b[0mkwargs\u001b[0m\u001b[1;33m)\u001b[0m\u001b[1;33m\u001b[0m\u001b[1;33m\u001b[0m\u001b[0m\n\u001b[0m\u001b[0;32m    121\u001b[0m         \u001b[1;31m# update the docstring of the returned function\u001b[0m\u001b[1;33m\u001b[0m\u001b[1;33m\u001b[0m\u001b[1;33m\u001b[0m\u001b[0m\n\u001b[0;32m    122\u001b[0m         \u001b[0mupdate_wrapper\u001b[0m\u001b[1;33m(\u001b[0m\u001b[0mout\u001b[0m\u001b[1;33m,\u001b[0m \u001b[0mself\u001b[0m\u001b[1;33m.\u001b[0m\u001b[0mfn\u001b[0m\u001b[1;33m)\u001b[0m\u001b[1;33m\u001b[0m\u001b[1;33m\u001b[0m\u001b[0m\n",
      "\u001b[1;32m~\\anaconda3\\envs\\unit2\\lib\\site-packages\\sklearn\\pipeline.py\u001b[0m in \u001b[0;36mpredict\u001b[1;34m(self, X, **predict_params)\u001b[0m\n\u001b[0;32m    416\u001b[0m         \u001b[0mXt\u001b[0m \u001b[1;33m=\u001b[0m \u001b[0mX\u001b[0m\u001b[1;33m\u001b[0m\u001b[1;33m\u001b[0m\u001b[0m\n\u001b[0;32m    417\u001b[0m         \u001b[1;32mfor\u001b[0m \u001b[0m_\u001b[0m\u001b[1;33m,\u001b[0m \u001b[0mname\u001b[0m\u001b[1;33m,\u001b[0m \u001b[0mtransform\u001b[0m \u001b[1;32min\u001b[0m \u001b[0mself\u001b[0m\u001b[1;33m.\u001b[0m\u001b[0m_iter\u001b[0m\u001b[1;33m(\u001b[0m\u001b[0mwith_final\u001b[0m\u001b[1;33m=\u001b[0m\u001b[1;32mFalse\u001b[0m\u001b[1;33m)\u001b[0m\u001b[1;33m:\u001b[0m\u001b[1;33m\u001b[0m\u001b[1;33m\u001b[0m\u001b[0m\n\u001b[1;32m--> 418\u001b[1;33m             \u001b[0mXt\u001b[0m \u001b[1;33m=\u001b[0m \u001b[0mtransform\u001b[0m\u001b[1;33m.\u001b[0m\u001b[0mtransform\u001b[0m\u001b[1;33m(\u001b[0m\u001b[0mXt\u001b[0m\u001b[1;33m)\u001b[0m\u001b[1;33m\u001b[0m\u001b[1;33m\u001b[0m\u001b[0m\n\u001b[0m\u001b[0;32m    419\u001b[0m         \u001b[1;32mreturn\u001b[0m \u001b[0mself\u001b[0m\u001b[1;33m.\u001b[0m\u001b[0msteps\u001b[0m\u001b[1;33m[\u001b[0m\u001b[1;33m-\u001b[0m\u001b[1;36m1\u001b[0m\u001b[1;33m]\u001b[0m\u001b[1;33m[\u001b[0m\u001b[1;33m-\u001b[0m\u001b[1;36m1\u001b[0m\u001b[1;33m]\u001b[0m\u001b[1;33m.\u001b[0m\u001b[0mpredict\u001b[0m\u001b[1;33m(\u001b[0m\u001b[0mXt\u001b[0m\u001b[1;33m,\u001b[0m \u001b[1;33m**\u001b[0m\u001b[0mpredict_params\u001b[0m\u001b[1;33m)\u001b[0m\u001b[1;33m\u001b[0m\u001b[1;33m\u001b[0m\u001b[0m\n\u001b[0;32m    420\u001b[0m \u001b[1;33m\u001b[0m\u001b[0m\n",
      "\u001b[1;32m~\\anaconda3\\envs\\unit2\\lib\\site-packages\\sklearn\\preprocessing\\_encoders.py\u001b[0m in \u001b[0;36mtransform\u001b[1;34m(self, X)\u001b[0m\n\u001b[0;32m    803\u001b[0m             \u001b[0mTransformed\u001b[0m \u001b[0minput\u001b[0m\u001b[1;33m.\u001b[0m\u001b[1;33m\u001b[0m\u001b[1;33m\u001b[0m\u001b[0m\n\u001b[0;32m    804\u001b[0m         \"\"\"\n\u001b[1;32m--> 805\u001b[1;33m         \u001b[0mX_int\u001b[0m\u001b[1;33m,\u001b[0m \u001b[0mX_mask\u001b[0m \u001b[1;33m=\u001b[0m \u001b[0mself\u001b[0m\u001b[1;33m.\u001b[0m\u001b[0m_transform\u001b[0m\u001b[1;33m(\u001b[0m\u001b[0mX\u001b[0m\u001b[1;33m,\u001b[0m \u001b[0mhandle_unknown\u001b[0m\u001b[1;33m=\u001b[0m\u001b[0mself\u001b[0m\u001b[1;33m.\u001b[0m\u001b[0mhandle_unknown\u001b[0m\u001b[1;33m)\u001b[0m\u001b[1;33m\u001b[0m\u001b[1;33m\u001b[0m\u001b[0m\n\u001b[0m\u001b[0;32m    806\u001b[0m         \u001b[0mX_trans\u001b[0m \u001b[1;33m=\u001b[0m \u001b[0mX_int\u001b[0m\u001b[1;33m.\u001b[0m\u001b[0mastype\u001b[0m\u001b[1;33m(\u001b[0m\u001b[0mself\u001b[0m\u001b[1;33m.\u001b[0m\u001b[0mdtype\u001b[0m\u001b[1;33m,\u001b[0m \u001b[0mcopy\u001b[0m\u001b[1;33m=\u001b[0m\u001b[1;32mFalse\u001b[0m\u001b[1;33m)\u001b[0m\u001b[1;33m\u001b[0m\u001b[1;33m\u001b[0m\u001b[0m\n\u001b[0;32m    807\u001b[0m \u001b[1;33m\u001b[0m\u001b[0m\n",
      "\u001b[1;32m~\\anaconda3\\envs\\unit2\\lib\\site-packages\\sklearn\\preprocessing\\_encoders.py\u001b[0m in \u001b[0;36m_transform\u001b[1;34m(self, X, handle_unknown, force_all_finite)\u001b[0m\n\u001b[0;32m    134\u001b[0m                     msg = (\"Found unknown categories {0} in column {1}\"\n\u001b[0;32m    135\u001b[0m                            \" during transform\".format(diff, i))\n\u001b[1;32m--> 136\u001b[1;33m                     \u001b[1;32mraise\u001b[0m \u001b[0mValueError\u001b[0m\u001b[1;33m(\u001b[0m\u001b[0mmsg\u001b[0m\u001b[1;33m)\u001b[0m\u001b[1;33m\u001b[0m\u001b[1;33m\u001b[0m\u001b[0m\n\u001b[0m\u001b[0;32m    137\u001b[0m                 \u001b[1;32melse\u001b[0m\u001b[1;33m:\u001b[0m\u001b[1;33m\u001b[0m\u001b[1;33m\u001b[0m\u001b[0m\n\u001b[0;32m    138\u001b[0m                     \u001b[1;31m# Set the problematic rows to an acceptable value and\u001b[0m\u001b[1;33m\u001b[0m\u001b[1;33m\u001b[0m\u001b[1;33m\u001b[0m\u001b[0m\n",
      "\u001b[1;31mValueError\u001b[0m: Found unknown categories [10155.0, 10167.0, 10278.0] in column 0 during transform"
     ]
    }
   ],
   "source": [
    "plot_confusion_matrix(\n",
    "    model,\n",
    "    X_val,\n",
    "    y_val,\n",
    "    values_format = '.0f',\n",
    "    display_labels = ['no repairs needed','needs repairs'])"
   ]
  },
  {
   "cell_type": "code",
   "execution_count": null,
   "metadata": {},
   "outputs": [],
   "source": []
  },
  {
   "cell_type": "code",
   "execution_count": null,
   "metadata": {},
   "outputs": [],
   "source": []
  },
  {
   "cell_type": "code",
   "execution_count": null,
   "metadata": {},
   "outputs": [],
   "source": []
  },
  {
   "cell_type": "code",
   "execution_count": null,
   "metadata": {},
   "outputs": [],
   "source": []
  },
  {
   "cell_type": "code",
   "execution_count": 65,
   "metadata": {},
   "outputs": [
    {
     "name": "stdout",
     "output_type": "stream",
     "text": [
      "Training Accuracy - Logistic Regression 1.0\n",
      "Validation Accuracy - Logistic Regression 0.9999901915588556\n"
     ]
    }
   ],
   "source": [
    "print(\"Training Accuracy - Logistic Regression\", model_lr.score(X_train, y_train))\n",
    "print(\"Validation Accuracy - Logistic Regression\", model_lr.score(X_val, y_val))"
   ]
  },
  {
   "cell_type": "code",
   "execution_count": 66,
   "metadata": {},
   "outputs": [
    {
     "name": "stdout",
     "output_type": "stream",
     "text": [
      "Training Accuracy - Random Forest 1.0\n",
      "Validation Accuracy - Random Forest 1.0\n"
     ]
    }
   ],
   "source": [
    "print(\"Training Accuracy - Random Forest\", model_rf.score(X_train, y_train))\n",
    "print(\"Validation Accuracy - Random Forest\", model_rf.score(X_val, y_val))"
   ]
  },
  {
   "cell_type": "code",
   "execution_count": 67,
   "metadata": {},
   "outputs": [
    {
     "data": {
      "text/html": [
       "<div>\n",
       "<style scoped>\n",
       "    .dataframe tbody tr th:only-of-type {\n",
       "        vertical-align: middle;\n",
       "    }\n",
       "\n",
       "    .dataframe tbody tr th {\n",
       "        vertical-align: top;\n",
       "    }\n",
       "\n",
       "    .dataframe thead th {\n",
       "        text-align: right;\n",
       "    }\n",
       "</style>\n",
       "<table border=\"1\" class=\"dataframe\">\n",
       "  <thead>\n",
       "    <tr style=\"text-align: right;\">\n",
       "      <th></th>\n",
       "      <th>ZIP CODE</th>\n",
       "      <th>LATITUDE</th>\n",
       "      <th>LONGITUDE</th>\n",
       "      <th>PERSONS INJURED</th>\n",
       "      <th>PERSONS KILLED</th>\n",
       "      <th>PEDESTRIANS INJURED</th>\n",
       "      <th>PEDESTRIANS KILLED</th>\n",
       "      <th>CYCLISTS INJURED</th>\n",
       "      <th>CYCLISTS KILLED</th>\n",
       "      <th>MOTORISTS INJURED</th>\n",
       "      <th>MOTORISTS KILLED</th>\n",
       "      <th>Total_fatalities</th>\n",
       "      <th>Total_injured</th>\n",
       "      <th>Total_victims</th>\n",
       "      <th>New_Borough</th>\n",
       "    </tr>\n",
       "  </thead>\n",
       "  <tbody>\n",
       "    <tr>\n",
       "      <th>ZIP CODE</th>\n",
       "      <td>1.000000</td>\n",
       "      <td>-0.157026</td>\n",
       "      <td>0.097987</td>\n",
       "      <td>0.059063</td>\n",
       "      <td>0.003679</td>\n",
       "      <td>-0.001169</td>\n",
       "      <td>0.001537</td>\n",
       "      <td>-0.006189</td>\n",
       "      <td>0.001055</td>\n",
       "      <td>0.065935</td>\n",
       "      <td>0.003898</td>\n",
       "      <td>0.003703</td>\n",
       "      <td>0.059164</td>\n",
       "      <td>0.059237</td>\n",
       "      <td>0.733642</td>\n",
       "    </tr>\n",
       "    <tr>\n",
       "      <th>LATITUDE</th>\n",
       "      <td>-0.157026</td>\n",
       "      <td>1.000000</td>\n",
       "      <td>-0.902413</td>\n",
       "      <td>-0.006026</td>\n",
       "      <td>-0.001597</td>\n",
       "      <td>0.003553</td>\n",
       "      <td>-0.000921</td>\n",
       "      <td>0.000628</td>\n",
       "      <td>-0.000524</td>\n",
       "      <td>-0.008347</td>\n",
       "      <td>-0.001315</td>\n",
       "      <td>-0.001607</td>\n",
       "      <td>-0.006105</td>\n",
       "      <td>-0.006173</td>\n",
       "      <td>-0.175576</td>\n",
       "    </tr>\n",
       "    <tr>\n",
       "      <th>LONGITUDE</th>\n",
       "      <td>0.097987</td>\n",
       "      <td>-0.902413</td>\n",
       "      <td>1.000000</td>\n",
       "      <td>0.006509</td>\n",
       "      <td>-0.000169</td>\n",
       "      <td>-0.001640</td>\n",
       "      <td>-0.000335</td>\n",
       "      <td>-0.006250</td>\n",
       "      <td>-0.000594</td>\n",
       "      <td>0.009445</td>\n",
       "      <td>0.000475</td>\n",
       "      <td>-0.000165</td>\n",
       "      <td>0.006559</td>\n",
       "      <td>0.006538</td>\n",
       "      <td>0.036986</td>\n",
       "    </tr>\n",
       "    <tr>\n",
       "      <th>PERSONS INJURED</th>\n",
       "      <td>0.059063</td>\n",
       "      <td>-0.006026</td>\n",
       "      <td>0.006509</td>\n",
       "      <td>1.000000</td>\n",
       "      <td>0.013057</td>\n",
       "      <td>0.326148</td>\n",
       "      <td>0.001679</td>\n",
       "      <td>0.189651</td>\n",
       "      <td>0.002811</td>\n",
       "      <td>0.876670</td>\n",
       "      <td>0.018874</td>\n",
       "      <td>0.012998</td>\n",
       "      <td>0.994906</td>\n",
       "      <td>0.993697</td>\n",
       "      <td>0.031557</td>\n",
       "    </tr>\n",
       "    <tr>\n",
       "      <th>PERSONS KILLED</th>\n",
       "      <td>0.003679</td>\n",
       "      <td>-0.001597</td>\n",
       "      <td>-0.000169</td>\n",
       "      <td>0.013057</td>\n",
       "      <td>1.000000</td>\n",
       "      <td>0.000019</td>\n",
       "      <td>0.771802</td>\n",
       "      <td>-0.002878</td>\n",
       "      <td>0.298269</td>\n",
       "      <td>0.014706</td>\n",
       "      <td>0.552450</td>\n",
       "      <td>0.998723</td>\n",
       "      <td>0.013012</td>\n",
       "      <td>0.062266</td>\n",
       "      <td>0.000636</td>\n",
       "    </tr>\n",
       "    <tr>\n",
       "      <th>PEDESTRIANS INJURED</th>\n",
       "      <td>-0.001169</td>\n",
       "      <td>0.003553</td>\n",
       "      <td>-0.001640</td>\n",
       "      <td>0.326148</td>\n",
       "      <td>0.000019</td>\n",
       "      <td>1.000000</td>\n",
       "      <td>0.003401</td>\n",
       "      <td>-0.031373</td>\n",
       "      <td>-0.002102</td>\n",
       "      <td>-0.050872</td>\n",
       "      <td>-0.003474</td>\n",
       "      <td>0.000007</td>\n",
       "      <td>0.335311</td>\n",
       "      <td>0.334688</td>\n",
       "      <td>0.006549</td>\n",
       "    </tr>\n",
       "    <tr>\n",
       "      <th>PEDESTRIANS KILLED</th>\n",
       "      <td>0.001537</td>\n",
       "      <td>-0.000921</td>\n",
       "      <td>-0.000335</td>\n",
       "      <td>0.001679</td>\n",
       "      <td>0.771802</td>\n",
       "      <td>0.003401</td>\n",
       "      <td>1.000000</td>\n",
       "      <td>-0.003357</td>\n",
       "      <td>-0.000210</td>\n",
       "      <td>0.001439</td>\n",
       "      <td>-0.000348</td>\n",
       "      <td>0.769498</td>\n",
       "      <td>0.001782</td>\n",
       "      <td>0.039747</td>\n",
       "      <td>0.002457</td>\n",
       "    </tr>\n",
       "    <tr>\n",
       "      <th>CYCLISTS INJURED</th>\n",
       "      <td>-0.006189</td>\n",
       "      <td>0.000628</td>\n",
       "      <td>-0.006250</td>\n",
       "      <td>0.189651</td>\n",
       "      <td>-0.002878</td>\n",
       "      <td>-0.031373</td>\n",
       "      <td>-0.003357</td>\n",
       "      <td>1.000000</td>\n",
       "      <td>0.003280</td>\n",
       "      <td>-0.036596</td>\n",
       "      <td>-0.002221</td>\n",
       "      <td>-0.002877</td>\n",
       "      <td>0.192336</td>\n",
       "      <td>0.191837</td>\n",
       "      <td>0.025466</td>\n",
       "    </tr>\n",
       "    <tr>\n",
       "      <th>CYCLISTS KILLED</th>\n",
       "      <td>0.001055</td>\n",
       "      <td>-0.000524</td>\n",
       "      <td>-0.000594</td>\n",
       "      <td>0.002811</td>\n",
       "      <td>0.298269</td>\n",
       "      <td>-0.002102</td>\n",
       "      <td>-0.000210</td>\n",
       "      <td>0.003280</td>\n",
       "      <td>1.000000</td>\n",
       "      <td>0.002916</td>\n",
       "      <td>-0.000139</td>\n",
       "      <td>0.297379</td>\n",
       "      <td>0.002735</td>\n",
       "      <td>0.017403</td>\n",
       "      <td>-0.000099</td>\n",
       "    </tr>\n",
       "    <tr>\n",
       "      <th>MOTORISTS INJURED</th>\n",
       "      <td>0.065935</td>\n",
       "      <td>-0.008347</td>\n",
       "      <td>0.009445</td>\n",
       "      <td>0.876670</td>\n",
       "      <td>0.014706</td>\n",
       "      <td>-0.050872</td>\n",
       "      <td>0.001439</td>\n",
       "      <td>-0.036596</td>\n",
       "      <td>0.002916</td>\n",
       "      <td>1.000000</td>\n",
       "      <td>0.022332</td>\n",
       "      <td>0.014737</td>\n",
       "      <td>0.888192</td>\n",
       "      <td>0.887268</td>\n",
       "      <td>0.023699</td>\n",
       "    </tr>\n",
       "    <tr>\n",
       "      <th>MOTORISTS KILLED</th>\n",
       "      <td>0.003898</td>\n",
       "      <td>-0.001315</td>\n",
       "      <td>0.000475</td>\n",
       "      <td>0.018874</td>\n",
       "      <td>0.552450</td>\n",
       "      <td>-0.003474</td>\n",
       "      <td>-0.000348</td>\n",
       "      <td>-0.002221</td>\n",
       "      <td>-0.000139</td>\n",
       "      <td>0.022332</td>\n",
       "      <td>1.000000</td>\n",
       "      <td>0.562655</td>\n",
       "      <td>0.018843</td>\n",
       "      <td>0.046571</td>\n",
       "      <td>-0.001927</td>\n",
       "    </tr>\n",
       "    <tr>\n",
       "      <th>Total_fatalities</th>\n",
       "      <td>0.003703</td>\n",
       "      <td>-0.001607</td>\n",
       "      <td>-0.000165</td>\n",
       "      <td>0.012998</td>\n",
       "      <td>0.998723</td>\n",
       "      <td>0.000007</td>\n",
       "      <td>0.769498</td>\n",
       "      <td>-0.002877</td>\n",
       "      <td>0.297379</td>\n",
       "      <td>0.014737</td>\n",
       "      <td>0.562655</td>\n",
       "      <td>1.000000</td>\n",
       "      <td>0.012995</td>\n",
       "      <td>0.062313</td>\n",
       "      <td>0.000694</td>\n",
       "    </tr>\n",
       "    <tr>\n",
       "      <th>Total_injured</th>\n",
       "      <td>0.059164</td>\n",
       "      <td>-0.006105</td>\n",
       "      <td>0.006559</td>\n",
       "      <td>0.994906</td>\n",
       "      <td>0.013012</td>\n",
       "      <td>0.335311</td>\n",
       "      <td>0.001782</td>\n",
       "      <td>0.192336</td>\n",
       "      <td>0.002735</td>\n",
       "      <td>0.888192</td>\n",
       "      <td>0.018843</td>\n",
       "      <td>0.012995</td>\n",
       "      <td>1.000000</td>\n",
       "      <td>0.998782</td>\n",
       "      <td>0.031157</td>\n",
       "    </tr>\n",
       "    <tr>\n",
       "      <th>Total_victims</th>\n",
       "      <td>0.059237</td>\n",
       "      <td>-0.006173</td>\n",
       "      <td>0.006538</td>\n",
       "      <td>0.993697</td>\n",
       "      <td>0.062266</td>\n",
       "      <td>0.334688</td>\n",
       "      <td>0.039747</td>\n",
       "      <td>0.191837</td>\n",
       "      <td>0.017403</td>\n",
       "      <td>0.887268</td>\n",
       "      <td>0.046571</td>\n",
       "      <td>0.062313</td>\n",
       "      <td>0.998782</td>\n",
       "      <td>1.000000</td>\n",
       "      <td>0.031133</td>\n",
       "    </tr>\n",
       "    <tr>\n",
       "      <th>New_Borough</th>\n",
       "      <td>0.733642</td>\n",
       "      <td>-0.175576</td>\n",
       "      <td>0.036986</td>\n",
       "      <td>0.031557</td>\n",
       "      <td>0.000636</td>\n",
       "      <td>0.006549</td>\n",
       "      <td>0.002457</td>\n",
       "      <td>0.025466</td>\n",
       "      <td>-0.000099</td>\n",
       "      <td>0.023699</td>\n",
       "      <td>-0.001927</td>\n",
       "      <td>0.000694</td>\n",
       "      <td>0.031157</td>\n",
       "      <td>0.031133</td>\n",
       "      <td>1.000000</td>\n",
       "    </tr>\n",
       "  </tbody>\n",
       "</table>\n",
       "</div>"
      ],
      "text/plain": [
       "                     ZIP CODE  LATITUDE  LONGITUDE  PERSONS INJURED  \\\n",
       "ZIP CODE             1.000000 -0.157026   0.097987         0.059063   \n",
       "LATITUDE            -0.157026  1.000000  -0.902413        -0.006026   \n",
       "LONGITUDE            0.097987 -0.902413   1.000000         0.006509   \n",
       "PERSONS INJURED      0.059063 -0.006026   0.006509         1.000000   \n",
       "PERSONS KILLED       0.003679 -0.001597  -0.000169         0.013057   \n",
       "PEDESTRIANS INJURED -0.001169  0.003553  -0.001640         0.326148   \n",
       "PEDESTRIANS KILLED   0.001537 -0.000921  -0.000335         0.001679   \n",
       "CYCLISTS INJURED    -0.006189  0.000628  -0.006250         0.189651   \n",
       "CYCLISTS KILLED      0.001055 -0.000524  -0.000594         0.002811   \n",
       "MOTORISTS INJURED    0.065935 -0.008347   0.009445         0.876670   \n",
       "MOTORISTS KILLED     0.003898 -0.001315   0.000475         0.018874   \n",
       "Total_fatalities     0.003703 -0.001607  -0.000165         0.012998   \n",
       "Total_injured        0.059164 -0.006105   0.006559         0.994906   \n",
       "Total_victims        0.059237 -0.006173   0.006538         0.993697   \n",
       "New_Borough          0.733642 -0.175576   0.036986         0.031557   \n",
       "\n",
       "                     PERSONS KILLED  PEDESTRIANS INJURED  PEDESTRIANS KILLED  \\\n",
       "ZIP CODE                   0.003679            -0.001169            0.001537   \n",
       "LATITUDE                  -0.001597             0.003553           -0.000921   \n",
       "LONGITUDE                 -0.000169            -0.001640           -0.000335   \n",
       "PERSONS INJURED            0.013057             0.326148            0.001679   \n",
       "PERSONS KILLED             1.000000             0.000019            0.771802   \n",
       "PEDESTRIANS INJURED        0.000019             1.000000            0.003401   \n",
       "PEDESTRIANS KILLED         0.771802             0.003401            1.000000   \n",
       "CYCLISTS INJURED          -0.002878            -0.031373           -0.003357   \n",
       "CYCLISTS KILLED            0.298269            -0.002102           -0.000210   \n",
       "MOTORISTS INJURED          0.014706            -0.050872            0.001439   \n",
       "MOTORISTS KILLED           0.552450            -0.003474           -0.000348   \n",
       "Total_fatalities           0.998723             0.000007            0.769498   \n",
       "Total_injured              0.013012             0.335311            0.001782   \n",
       "Total_victims              0.062266             0.334688            0.039747   \n",
       "New_Borough                0.000636             0.006549            0.002457   \n",
       "\n",
       "                     CYCLISTS INJURED  CYCLISTS KILLED  MOTORISTS INJURED  \\\n",
       "ZIP CODE                    -0.006189         0.001055           0.065935   \n",
       "LATITUDE                     0.000628        -0.000524          -0.008347   \n",
       "LONGITUDE                   -0.006250        -0.000594           0.009445   \n",
       "PERSONS INJURED              0.189651         0.002811           0.876670   \n",
       "PERSONS KILLED              -0.002878         0.298269           0.014706   \n",
       "PEDESTRIANS INJURED         -0.031373        -0.002102          -0.050872   \n",
       "PEDESTRIANS KILLED          -0.003357        -0.000210           0.001439   \n",
       "CYCLISTS INJURED             1.000000         0.003280          -0.036596   \n",
       "CYCLISTS KILLED              0.003280         1.000000           0.002916   \n",
       "MOTORISTS INJURED           -0.036596         0.002916           1.000000   \n",
       "MOTORISTS KILLED            -0.002221        -0.000139           0.022332   \n",
       "Total_fatalities            -0.002877         0.297379           0.014737   \n",
       "Total_injured                0.192336         0.002735           0.888192   \n",
       "Total_victims                0.191837         0.017403           0.887268   \n",
       "New_Borough                  0.025466        -0.000099           0.023699   \n",
       "\n",
       "                     MOTORISTS KILLED  Total_fatalities  Total_injured  \\\n",
       "ZIP CODE                     0.003898          0.003703       0.059164   \n",
       "LATITUDE                    -0.001315         -0.001607      -0.006105   \n",
       "LONGITUDE                    0.000475         -0.000165       0.006559   \n",
       "PERSONS INJURED              0.018874          0.012998       0.994906   \n",
       "PERSONS KILLED               0.552450          0.998723       0.013012   \n",
       "PEDESTRIANS INJURED         -0.003474          0.000007       0.335311   \n",
       "PEDESTRIANS KILLED          -0.000348          0.769498       0.001782   \n",
       "CYCLISTS INJURED            -0.002221         -0.002877       0.192336   \n",
       "CYCLISTS KILLED             -0.000139          0.297379       0.002735   \n",
       "MOTORISTS INJURED            0.022332          0.014737       0.888192   \n",
       "MOTORISTS KILLED             1.000000          0.562655       0.018843   \n",
       "Total_fatalities             0.562655          1.000000       0.012995   \n",
       "Total_injured                0.018843          0.012995       1.000000   \n",
       "Total_victims                0.046571          0.062313       0.998782   \n",
       "New_Borough                 -0.001927          0.000694       0.031157   \n",
       "\n",
       "                     Total_victims  New_Borough  \n",
       "ZIP CODE                  0.059237     0.733642  \n",
       "LATITUDE                 -0.006173    -0.175576  \n",
       "LONGITUDE                 0.006538     0.036986  \n",
       "PERSONS INJURED           0.993697     0.031557  \n",
       "PERSONS KILLED            0.062266     0.000636  \n",
       "PEDESTRIANS INJURED       0.334688     0.006549  \n",
       "PEDESTRIANS KILLED        0.039747     0.002457  \n",
       "CYCLISTS INJURED          0.191837     0.025466  \n",
       "CYCLISTS KILLED           0.017403    -0.000099  \n",
       "MOTORISTS INJURED         0.887268     0.023699  \n",
       "MOTORISTS KILLED          0.046571    -0.001927  \n",
       "Total_fatalities          0.062313     0.000694  \n",
       "Total_injured             0.998782     0.031157  \n",
       "Total_victims             1.000000     0.031133  \n",
       "New_Borough               0.031133     1.000000  "
      ]
     },
     "execution_count": 67,
     "metadata": {},
     "output_type": "execute_result"
    }
   ],
   "source": [
    "df.corr()"
   ]
  },
  {
   "cell_type": "code",
   "execution_count": 68,
   "metadata": {},
   "outputs": [
    {
     "name": "stderr",
     "output_type": "stream",
     "text": [
      "C:\\Users\\arnel\\anaconda3\\envs\\unit2\\lib\\site-packages\\sklearn\\metrics\\_classification.py:1248: UndefinedMetricWarning: Recall and F-score are ill-defined and being set to 0.0 in labels with no true samples. Use `zero_division` parameter to control this behavior.\n",
      "  _warn_prf(average, modifier, msg_start, len(result))\n",
      "C:\\Users\\arnel\\anaconda3\\envs\\unit2\\lib\\site-packages\\sklearn\\metrics\\_classification.py:1248: UndefinedMetricWarning: Recall and F-score are ill-defined and being set to 0.0 in labels with no true samples. Use `zero_division` parameter to control this behavior.\n",
      "  _warn_prf(average, modifier, msg_start, len(result))\n",
      "C:\\Users\\arnel\\anaconda3\\envs\\unit2\\lib\\site-packages\\sklearn\\metrics\\_classification.py:1248: UndefinedMetricWarning: Recall and F-score are ill-defined and being set to 0.0 in labels with no true samples. Use `zero_division` parameter to control this behavior.\n",
      "  _warn_prf(average, modifier, msg_start, len(result))\n"
     ]
    },
    {
     "name": "stdout",
     "output_type": "stream",
     "text": [
      "              precision    recall  f1-score   support\n",
      "\n",
      "           0       1.00      1.00      1.00    101903\n",
      "           1       1.00      1.00      1.00        50\n",
      "           2       0.00      0.00      0.00         0\n",
      "\n",
      "    accuracy                           1.00    101953\n",
      "   macro avg       0.67      0.67      0.67    101953\n",
      "weighted avg       1.00      1.00      1.00    101953\n",
      "\n"
     ]
    },
    {
     "data": {
      "image/png": "[encoded data removed]",
      "text/plain": [
       "<Figure size 432x288 with 2 Axes>"
      ]
     },
     "metadata": {
      "needs_background": "light"
     },
     "output_type": "display_data"
    }
   ],
   "source": [
    "print(classification_report(y_val, model_lr.predict(X_val)))\n",
    "plot_confusion_matrix(model_lr, X_val, y_val)\n",
    "plt.show()"
   ]
  },
  {
   "cell_type": "code",
   "execution_count": 70,
   "metadata": {},
   "outputs": [
    {
     "name": "stdout",
     "output_type": "stream",
     "text": [
      "              precision    recall  f1-score   support\n",
      "\n",
      "           0       1.00      1.00      1.00    101903\n",
      "           1       1.00      1.00      1.00        50\n",
      "\n",
      "    accuracy                           1.00    101953\n",
      "   macro avg       1.00      1.00      1.00    101953\n",
      "weighted avg       1.00      1.00      1.00    101953\n",
      "\n"
     ]
    },
    {
     "data": {
      "image/png": "[encoded data removed]",
      "text/plain": [
       "<Figure size 432x288 with 2 Axes>"
      ]
     },
     "metadata": {
      "needs_background": "light"
     },
     "output_type": "display_data"
    }
   ],
   "source": [
    "print(classification_report(y_val, model_rf.predict(X_val)))\n",
    "plot_confusion_matrix(model_rf, X_val, y_val)\n",
    "plt.show()"
   ]
  }
 ],
 "metadata": {
  "kernelspec": {
   "display_name": "Python 3 (ipykernel)",
   "language": "python",
   "name": "python3"
  },
  "language_info": {
   "codemirror_mode": {
    "name": "ipython",
    "version": 3
   },
   "file_extension": ".py",
   "mimetype": "text/x-python",
   "name": "python",
   "nbconvert_exporter": "python",
   "pygments_lexer": "ipython3",
   "version": "3.7.11"
  }
 },
 "nbformat": 4,
 "nbformat_minor": 1
}
