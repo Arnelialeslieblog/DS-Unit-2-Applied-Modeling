{
 "cells": [
  {
   "cell_type": "markdown",
   "metadata": {
    "colab_type": "text",
    "id": "nCc3XZEyG3XV"
   },
   "source": [
    "Lambda School Data Science\n",
    "\n",
    "*Unit 2, Sprint 3, Module 1*\n",
    "\n",
    "---\n",
    "\n",
    "\n",
    "# Define ML problems\n",
    "\n",
    "You will use your portfolio project dataset for all assignments this sprint.\n",
    "\n",
    "## Assignment\n",
    "\n",
    "Complete these tasks for your project, and document your decisions.\n",
    "\n",
    "- [ ] Choose your target. Which column in your tabular dataset will you predict?\n",
    "- [ ] Is your problem regression or classification?\n",
    "- [ ] How is your target distributed?\n",
    "    - Classification: How many classes? Are the classes imbalanced?\n",
    "    - Regression: Is the target right-skewed? If so, you may want to log transform the target.\n",
    "- [ ] Choose your evaluation metric(s).\n",
    "    - Classification: Is your majority class frequency >= 50% and < 70% ? If so, you can just use accuracy if you want. Outside that range, accuracy could be misleading. What evaluation metric will you choose, in addition to or instead of accuracy?\n",
    "    - Regression: Will you use mean absolute error, root mean squared error, R^2, or other regression metrics?\n",
    "- [ ] Choose which observations you will use to train, validate, and test your model.\n",
    "    - Are some observations outliers? Will you exclude them?\n",
    "    - Will you do a random split or a time-based split?\n",
    "- [ ] Begin to clean and explore your data.\n",
    "- [ ] Begin to choose which features, if any, to exclude. Would some features \"leak\" future information?\n",
    "\n",
    "If you haven't found a dataset yet, do that today. [Review requirements for your portfolio project](https://lambdaschool.github.io/ds/unit2) and choose your dataset.\n",
    "\n",
    "Some students worry, ***what if my model isn't “good”?*** Then, [produce a detailed tribute to your wrongness. That is science!](https://twitter.com/nathanwpyle/status/1176860147223867393)"
   ]
  },
  {
   "cell_type": "code",
   "execution_count": 1,
   "metadata": {},
   "outputs": [],
   "source": [
    "%%capture\n",
    "!pip install category_encoders==2.*\n",
    "\n",
    "# Working locally:\n",
    "DATA_PATH = '../data/'"
   ]
  },
  {
   "cell_type": "markdown",
   "metadata": {},
   "source": [
    "### Import Libraries"
   ]
  },
  {
   "cell_type": "code",
   "execution_count": 28,
   "metadata": {},
   "outputs": [],
   "source": [
    "import pandas as pd\n",
    "import numpy as np\n",
    "import matplotlib.pyplot as plt\n",
    "pd.set_option(\"display.max_columns\", 75)\n",
    "pd.set_option(\"display.max_rows\", 75)\n",
    "\n",
    "from sklearn.pipeline import make_pipeline\n",
    "from sklearn.impute import SimpleImputer\n",
    "from sklearn.ensemble import RandomForestClassifier, RandomForestRegressor\n",
    "from sklearn.tree import DecisionTreeClassifier\n",
    "from sklearn.linear_model import LogisticRegression, LinearRegression\n",
    "from sklearn.preprocessing import StandardScaler, OrdinalEncoder\n",
    "from sklearn.metrics import classification_report, roc_curve, plot_confusion_matrix, plot_roc_curve\n",
    "from sklearn.model_selection import train_test_split\n",
    "from category_encoders import OneHotEncoder"
   ]
  },
  {
   "cell_type": "code",
   "execution_count": 3,
   "metadata": {},
   "outputs": [],
   "source": [
    "def clean_up_binary_columns(cell_contents):\n",
    "  if isinstance(cell_contents, str):\n",
    "    return 1\n",
    "  else:\n",
    "    return 0"
   ]
  },
  {
   "cell_type": "markdown",
   "metadata": {},
   "source": [
    "## 1. Wrangle Data"
   ]
  },
  {
   "cell_type": "code",
   "execution_count": 179,
   "metadata": {
    "scrolled": true
   },
   "outputs": [
    {
     "name": "stdout",
     "output_type": "stream",
     "text": [
      "(477732, 11)\n"
     ]
    },
    {
     "data": {
      "text/html": [
       "<div>\n",
       "<style scoped>\n",
       "    .dataframe tbody tr th:only-of-type {\n",
       "        vertical-align: middle;\n",
       "    }\n",
       "\n",
       "    .dataframe tbody tr th {\n",
       "        vertical-align: top;\n",
       "    }\n",
       "\n",
       "    .dataframe thead th {\n",
       "        text-align: right;\n",
       "    }\n",
       "</style>\n",
       "<table border=\"1\" class=\"dataframe\">\n",
       "  <thead>\n",
       "    <tr style=\"text-align: right;\">\n",
       "      <th></th>\n",
       "      <th>PERSONS INJURED</th>\n",
       "      <th>PERSONS KILLED</th>\n",
       "      <th>PEDESTRIANS INJURED</th>\n",
       "      <th>PEDESTRIANS KILLED</th>\n",
       "      <th>CYCLISTS INJURED</th>\n",
       "      <th>CYCLISTS KILLED</th>\n",
       "      <th>MOTORISTS INJURED</th>\n",
       "      <th>MOTORISTS KILLED</th>\n",
       "      <th>VEHICLE 1 TYPE</th>\n",
       "      <th>VEHICLE 1 FACTOR</th>\n",
       "      <th>New_Borough</th>\n",
       "    </tr>\n",
       "    <tr>\n",
       "      <th>DATE</th>\n",
       "      <th></th>\n",
       "      <th></th>\n",
       "      <th></th>\n",
       "      <th></th>\n",
       "      <th></th>\n",
       "      <th></th>\n",
       "      <th></th>\n",
       "      <th></th>\n",
       "      <th></th>\n",
       "      <th></th>\n",
       "      <th></th>\n",
       "    </tr>\n",
       "  </thead>\n",
       "  <tbody>\n",
       "    <tr>\n",
       "      <th>2015-01-01</th>\n",
       "      <td>0</td>\n",
       "      <td>0</td>\n",
       "      <td>0</td>\n",
       "      <td>0</td>\n",
       "      <td>0</td>\n",
       "      <td>0</td>\n",
       "      <td>0</td>\n",
       "      <td>0</td>\n",
       "      <td>SPORT UTILITY/STATION WAGON</td>\n",
       "      <td>TRAFFIC CONTROL DISREGARDED</td>\n",
       "      <td>1.0</td>\n",
       "    </tr>\n",
       "    <tr>\n",
       "      <th>2015-01-01</th>\n",
       "      <td>1</td>\n",
       "      <td>0</td>\n",
       "      <td>0</td>\n",
       "      <td>0</td>\n",
       "      <td>0</td>\n",
       "      <td>0</td>\n",
       "      <td>1</td>\n",
       "      <td>0</td>\n",
       "      <td>PASSENGER VEHICLE</td>\n",
       "      <td>ANIMALS ACTION</td>\n",
       "      <td>0.0</td>\n",
       "    </tr>\n",
       "    <tr>\n",
       "      <th>2015-01-01</th>\n",
       "      <td>0</td>\n",
       "      <td>0</td>\n",
       "      <td>0</td>\n",
       "      <td>0</td>\n",
       "      <td>0</td>\n",
       "      <td>0</td>\n",
       "      <td>0</td>\n",
       "      <td>0</td>\n",
       "      <td>PASSENGER VEHICLE</td>\n",
       "      <td>FATIGUED/DROWSY</td>\n",
       "      <td>1.0</td>\n",
       "    </tr>\n",
       "    <tr>\n",
       "      <th>2015-01-01</th>\n",
       "      <td>0</td>\n",
       "      <td>0</td>\n",
       "      <td>0</td>\n",
       "      <td>0</td>\n",
       "      <td>0</td>\n",
       "      <td>0</td>\n",
       "      <td>0</td>\n",
       "      <td>0</td>\n",
       "      <td>BUS</td>\n",
       "      <td>LOST CONSCIOUSNESS</td>\n",
       "      <td>1.0</td>\n",
       "    </tr>\n",
       "    <tr>\n",
       "      <th>2015-01-01</th>\n",
       "      <td>0</td>\n",
       "      <td>0</td>\n",
       "      <td>0</td>\n",
       "      <td>0</td>\n",
       "      <td>0</td>\n",
       "      <td>0</td>\n",
       "      <td>0</td>\n",
       "      <td>0</td>\n",
       "      <td>UNKNOWN</td>\n",
       "      <td>UNSPECIFIED</td>\n",
       "      <td>0.0</td>\n",
       "    </tr>\n",
       "  </tbody>\n",
       "</table>\n",
       "</div>"
      ],
      "text/plain": [
       "            PERSONS INJURED  PERSONS KILLED  PEDESTRIANS INJURED  \\\n",
       "DATE                                                               \n",
       "2015-01-01                0               0                    0   \n",
       "2015-01-01                1               0                    0   \n",
       "2015-01-01                0               0                    0   \n",
       "2015-01-01                0               0                    0   \n",
       "2015-01-01                0               0                    0   \n",
       "\n",
       "            PEDESTRIANS KILLED  CYCLISTS INJURED  CYCLISTS KILLED  \\\n",
       "DATE                                                                \n",
       "2015-01-01                   0                 0                0   \n",
       "2015-01-01                   0                 0                0   \n",
       "2015-01-01                   0                 0                0   \n",
       "2015-01-01                   0                 0                0   \n",
       "2015-01-01                   0                 0                0   \n",
       "\n",
       "            MOTORISTS INJURED  MOTORISTS KILLED               VEHICLE 1 TYPE  \\\n",
       "DATE                                                                           \n",
       "2015-01-01                  0                 0  SPORT UTILITY/STATION WAGON   \n",
       "2015-01-01                  1                 0            PASSENGER VEHICLE   \n",
       "2015-01-01                  0                 0            PASSENGER VEHICLE   \n",
       "2015-01-01                  0                 0                          BUS   \n",
       "2015-01-01                  0                 0                      UNKNOWN   \n",
       "\n",
       "                       VEHICLE 1 FACTOR  New_Borough  \n",
       "DATE                                                  \n",
       "2015-01-01  TRAFFIC CONTROL DISREGARDED          1.0  \n",
       "2015-01-01               ANIMALS ACTION          0.0  \n",
       "2015-01-01              FATIGUED/DROWSY          1.0  \n",
       "2015-01-01           LOST CONSCIOUSNESS          1.0  \n",
       "2015-01-01                  UNSPECIFIED          0.0  "
      ]
     },
     "execution_count": 179,
     "metadata": {},
     "output_type": "execute_result"
    }
   ],
   "source": [
    "def wrangle(filepath):\n",
    "  df = pd.read_csv(filepath, parse_dates=['DATE'], index_col='DATE')\n",
    "\n",
    "  # Drop Columns with a high number of NaNs\n",
    "  df.dropna(axis=1, thresh=300, inplace=True)\n",
    " \n",
    "  # High Cardinality Categorical Columns\n",
    "  #categorical_cols = df.select_dtypes('object').columns\n",
    "  #threshold = 10\n",
    "  #high_card_cols = [col for col in categorical_cols if df[col].nunique() > threshold]\n",
    "  #df.drop(high_card_cols, axis=1, inplace=True)\n",
    "\n",
    " \n",
    "  \n",
    "  #Feature engineering \n",
    "  #df['Total_fatalities'] = df['PERSONS KILLED'] + df['PEDESTRIANS KILLED'] + df['CYCLISTS KILLED'] + df['MOTORISTS KILLED']\n",
    "  #df['Total_injured'] = df['PERSONS INJURED'] + df['PEDESTRIANS INJURED'] + df['CYCLISTS INJURED'] + df['MOTORISTS INJURED']\n",
    " # df['Total_victims'] = df['Total_fatalities'] + df['Total_injured']\n",
    "  df['New_Borough'] = df['BOROUGH'].replace({'STATEN ISLAND':0, 'BRONX':0, 'MANHATTAN':0, 'QUEENS':1,'BROOKLYN':1})\n",
    "  \n",
    "  # Drop 'UNIQUE KEY' column\n",
    "  df = df.drop(columns='UNIQUE KEY')\n",
    "  df = df.drop(columns='BOROUGH')\n",
    "  df= df.drop(columns=['TIME','ZIP CODE',\n",
    "       'LOCATION', 'ON STREET NAME','LATITUDE', 'LONGITUDE', 'CROSS STREET NAME', 'OFF STREET NAME',\n",
    "       'VEHICLE 2 TYPE', 'VEHICLE 3 TYPE', 'VEHICLE 4 TYPE', 'VEHICLE 5 TYPE',\n",
    "       'VEHICLE 2 FACTOR', 'VEHICLE 3 FACTOR', 'VEHICLE 4 FACTOR', 'VEHICLE 5 FACTOR'])\n",
    "  df= df.fillna(0) \n",
    "  return df\n",
    "\n",
    "df = wrangle(DATA_PATH+'database.csv')  \n",
    "\n",
    "print(df.shape)\n",
    "df.head()"
   ]
  },
  {
   "cell_type": "code",
   "execution_count": 8,
   "metadata": {},
   "outputs": [
    {
     "data": {
      "text/plain": [
       "Index(['PERSONS INJURED', 'PERSONS KILLED', 'PEDESTRIANS INJURED',\n",
       "       'PEDESTRIANS KILLED', 'CYCLISTS INJURED', 'CYCLISTS KILLED',\n",
       "       'MOTORISTS INJURED', 'MOTORISTS KILLED', 'VEHICLE 1 TYPE',\n",
       "       'VEHICLE 1 FACTOR', 'New_Borough'],\n",
       "      dtype='object')"
      ]
     },
     "execution_count": 8,
     "metadata": {},
     "output_type": "execute_result"
    }
   ],
   "source": [
    "df.columns"
   ]
  },
  {
   "cell_type": "code",
   "execution_count": 58,
   "metadata": {},
   "outputs": [],
   "source": [
    "#df['BOROUGH'].value_counts()"
   ]
  },
  {
   "cell_type": "code",
   "execution_count": 180,
   "metadata": {},
   "outputs": [
    {
     "data": {
      "text/plain": [
       "PERSONS INJURED        0\n",
       "PERSONS KILLED         0\n",
       "PEDESTRIANS INJURED    0\n",
       "PEDESTRIANS KILLED     0\n",
       "CYCLISTS INJURED       0\n",
       "CYCLISTS KILLED        0\n",
       "MOTORISTS INJURED      0\n",
       "MOTORISTS KILLED       0\n",
       "VEHICLE 1 TYPE         0\n",
       "VEHICLE 1 FACTOR       0\n",
       "New_Borough            0\n",
       "dtype: int64"
      ]
     },
     "execution_count": 180,
     "metadata": {},
     "output_type": "execute_result"
    }
   ],
   "source": [
    "# no missing values \n",
    "df.isnull().sum()"
   ]
  },
  {
   "cell_type": "code",
   "execution_count": 54,
   "metadata": {},
   "outputs": [],
   "source": [
    "#df['New_Borough'] = df['BOROUGH'].replace({'STATEN ISLAND':0, 'BRONX':1, 'MANHATTAN':2, 'QUEENS':3,'BROOKLYN':4})"
   ]
  },
  {
   "cell_type": "code",
   "execution_count": 11,
   "metadata": {},
   "outputs": [
    {
     "data": {
      "text/html": [
       "<div>\n",
       "<style scoped>\n",
       "    .dataframe tbody tr th:only-of-type {\n",
       "        vertical-align: middle;\n",
       "    }\n",
       "\n",
       "    .dataframe tbody tr th {\n",
       "        vertical-align: top;\n",
       "    }\n",
       "\n",
       "    .dataframe thead th {\n",
       "        text-align: right;\n",
       "    }\n",
       "</style>\n",
       "<table border=\"1\" class=\"dataframe\">\n",
       "  <thead>\n",
       "    <tr style=\"text-align: right;\">\n",
       "      <th></th>\n",
       "      <th>PERSONS INJURED</th>\n",
       "      <th>PERSONS KILLED</th>\n",
       "      <th>PEDESTRIANS INJURED</th>\n",
       "      <th>PEDESTRIANS KILLED</th>\n",
       "      <th>CYCLISTS INJURED</th>\n",
       "      <th>CYCLISTS KILLED</th>\n",
       "      <th>MOTORISTS INJURED</th>\n",
       "      <th>MOTORISTS KILLED</th>\n",
       "      <th>VEHICLE 1 TYPE</th>\n",
       "      <th>VEHICLE 1 FACTOR</th>\n",
       "      <th>New_Borough</th>\n",
       "    </tr>\n",
       "    <tr>\n",
       "      <th>DATE</th>\n",
       "      <th></th>\n",
       "      <th></th>\n",
       "      <th></th>\n",
       "      <th></th>\n",
       "      <th></th>\n",
       "      <th></th>\n",
       "      <th></th>\n",
       "      <th></th>\n",
       "      <th></th>\n",
       "      <th></th>\n",
       "      <th></th>\n",
       "    </tr>\n",
       "  </thead>\n",
       "  <tbody>\n",
       "    <tr>\n",
       "      <th>2015-01-01</th>\n",
       "      <td>0</td>\n",
       "      <td>0</td>\n",
       "      <td>0</td>\n",
       "      <td>0</td>\n",
       "      <td>0</td>\n",
       "      <td>0</td>\n",
       "      <td>0</td>\n",
       "      <td>0</td>\n",
       "      <td>SPORT UTILITY/STATION WAGON</td>\n",
       "      <td>TRAFFIC CONTROL DISREGARDED</td>\n",
       "      <td>1.0</td>\n",
       "    </tr>\n",
       "    <tr>\n",
       "      <th>2015-01-01</th>\n",
       "      <td>1</td>\n",
       "      <td>0</td>\n",
       "      <td>0</td>\n",
       "      <td>0</td>\n",
       "      <td>0</td>\n",
       "      <td>0</td>\n",
       "      <td>1</td>\n",
       "      <td>0</td>\n",
       "      <td>PASSENGER VEHICLE</td>\n",
       "      <td>ANIMALS ACTION</td>\n",
       "      <td>0.0</td>\n",
       "    </tr>\n",
       "    <tr>\n",
       "      <th>2015-01-01</th>\n",
       "      <td>0</td>\n",
       "      <td>0</td>\n",
       "      <td>0</td>\n",
       "      <td>0</td>\n",
       "      <td>0</td>\n",
       "      <td>0</td>\n",
       "      <td>0</td>\n",
       "      <td>0</td>\n",
       "      <td>PASSENGER VEHICLE</td>\n",
       "      <td>FATIGUED/DROWSY</td>\n",
       "      <td>1.0</td>\n",
       "    </tr>\n",
       "    <tr>\n",
       "      <th>2015-01-01</th>\n",
       "      <td>0</td>\n",
       "      <td>0</td>\n",
       "      <td>0</td>\n",
       "      <td>0</td>\n",
       "      <td>0</td>\n",
       "      <td>0</td>\n",
       "      <td>0</td>\n",
       "      <td>0</td>\n",
       "      <td>BUS</td>\n",
       "      <td>LOST CONSCIOUSNESS</td>\n",
       "      <td>1.0</td>\n",
       "    </tr>\n",
       "    <tr>\n",
       "      <th>2015-01-01</th>\n",
       "      <td>0</td>\n",
       "      <td>0</td>\n",
       "      <td>0</td>\n",
       "      <td>0</td>\n",
       "      <td>0</td>\n",
       "      <td>0</td>\n",
       "      <td>0</td>\n",
       "      <td>0</td>\n",
       "      <td>UNKNOWN</td>\n",
       "      <td>UNSPECIFIED</td>\n",
       "      <td>0.0</td>\n",
       "    </tr>\n",
       "  </tbody>\n",
       "</table>\n",
       "</div>"
      ],
      "text/plain": [
       "            PERSONS INJURED  PERSONS KILLED  PEDESTRIANS INJURED  \\\n",
       "DATE                                                               \n",
       "2015-01-01                0               0                    0   \n",
       "2015-01-01                1               0                    0   \n",
       "2015-01-01                0               0                    0   \n",
       "2015-01-01                0               0                    0   \n",
       "2015-01-01                0               0                    0   \n",
       "\n",
       "            PEDESTRIANS KILLED  CYCLISTS INJURED  CYCLISTS KILLED  \\\n",
       "DATE                                                                \n",
       "2015-01-01                   0                 0                0   \n",
       "2015-01-01                   0                 0                0   \n",
       "2015-01-01                   0                 0                0   \n",
       "2015-01-01                   0                 0                0   \n",
       "2015-01-01                   0                 0                0   \n",
       "\n",
       "            MOTORISTS INJURED  MOTORISTS KILLED               VEHICLE 1 TYPE  \\\n",
       "DATE                                                                           \n",
       "2015-01-01                  0                 0  SPORT UTILITY/STATION WAGON   \n",
       "2015-01-01                  1                 0            PASSENGER VEHICLE   \n",
       "2015-01-01                  0                 0            PASSENGER VEHICLE   \n",
       "2015-01-01                  0                 0                          BUS   \n",
       "2015-01-01                  0                 0                      UNKNOWN   \n",
       "\n",
       "                       VEHICLE 1 FACTOR  New_Borough  \n",
       "DATE                                                  \n",
       "2015-01-01  TRAFFIC CONTROL DISREGARDED          1.0  \n",
       "2015-01-01               ANIMALS ACTION          0.0  \n",
       "2015-01-01              FATIGUED/DROWSY          1.0  \n",
       "2015-01-01           LOST CONSCIOUSNESS          1.0  \n",
       "2015-01-01                  UNSPECIFIED          0.0  "
      ]
     },
     "execution_count": 11,
     "metadata": {},
     "output_type": "execute_result"
    }
   ],
   "source": [
    "df.head(5)"
   ]
  },
  {
   "cell_type": "markdown",
   "metadata": {},
   "source": [
    "## 2. Split The Data "
   ]
  },
  {
   "cell_type": "code",
   "execution_count": 181,
   "metadata": {},
   "outputs": [],
   "source": [
    "target= 'New_Borough'\n",
    "y = df[target]\n",
    "X = df.drop(columns= target)"
   ]
  },
  {
   "cell_type": "code",
   "execution_count": 182,
   "metadata": {},
   "outputs": [
    {
     "ename": "KeyError",
     "evalue": "'DATE'",
     "output_type": "error",
     "traceback": [
      "\u001b[1;31m---------------------------------------------------------------------------\u001b[0m",
      "\u001b[1;31mKeyError\u001b[0m                                  Traceback (most recent call last)",
      "\u001b[1;32m~\\anaconda3\\envs\\unit2\\lib\\site-packages\\pandas\\core\\indexes\\base.py\u001b[0m in \u001b[0;36mget_loc\u001b[1;34m(self, key, method, tolerance)\u001b[0m\n\u001b[0;32m   3360\u001b[0m             \u001b[1;32mtry\u001b[0m\u001b[1;33m:\u001b[0m\u001b[1;33m\u001b[0m\u001b[1;33m\u001b[0m\u001b[0m\n\u001b[1;32m-> 3361\u001b[1;33m                 \u001b[1;32mreturn\u001b[0m \u001b[0mself\u001b[0m\u001b[1;33m.\u001b[0m\u001b[0m_engine\u001b[0m\u001b[1;33m.\u001b[0m\u001b[0mget_loc\u001b[0m\u001b[1;33m(\u001b[0m\u001b[0mcasted_key\u001b[0m\u001b[1;33m)\u001b[0m\u001b[1;33m\u001b[0m\u001b[1;33m\u001b[0m\u001b[0m\n\u001b[0m\u001b[0;32m   3362\u001b[0m             \u001b[1;32mexcept\u001b[0m \u001b[0mKeyError\u001b[0m \u001b[1;32mas\u001b[0m \u001b[0merr\u001b[0m\u001b[1;33m:\u001b[0m\u001b[1;33m\u001b[0m\u001b[1;33m\u001b[0m\u001b[0m\n",
      "\u001b[1;32m~\\anaconda3\\envs\\unit2\\lib\\site-packages\\pandas\\_libs\\index.pyx\u001b[0m in \u001b[0;36mpandas._libs.index.IndexEngine.get_loc\u001b[1;34m()\u001b[0m\n",
      "\u001b[1;32m~\\anaconda3\\envs\\unit2\\lib\\site-packages\\pandas\\_libs\\index.pyx\u001b[0m in \u001b[0;36mpandas._libs.index.IndexEngine.get_loc\u001b[1;34m()\u001b[0m\n",
      "\u001b[1;32mpandas\\_libs\\hashtable_class_helper.pxi\u001b[0m in \u001b[0;36mpandas._libs.hashtable.PyObjectHashTable.get_item\u001b[1;34m()\u001b[0m\n",
      "\u001b[1;32mpandas\\_libs\\hashtable_class_helper.pxi\u001b[0m in \u001b[0;36mpandas._libs.hashtable.PyObjectHashTable.get_item\u001b[1;34m()\u001b[0m\n",
      "\u001b[1;31mKeyError\u001b[0m: 'DATE'",
      "\nThe above exception was the direct cause of the following exception:\n",
      "\u001b[1;31mKeyError\u001b[0m                                  Traceback (most recent call last)",
      "\u001b[1;32m~\\AppData\\Local\\Temp/ipykernel_18740/3383155087.py\u001b[0m in \u001b[0;36m<module>\u001b[1;34m\u001b[0m\n\u001b[1;32m----> 1\u001b[1;33m \u001b[0mdf\u001b[0m\u001b[1;33m[\u001b[0m\u001b[1;34m'DATE'\u001b[0m\u001b[1;33m]\u001b[0m\u001b[1;33m.\u001b[0m \u001b[0mvalue_counts\u001b[0m\u001b[1;33m(\u001b[0m\u001b[1;33m)\u001b[0m\u001b[1;33m\u001b[0m\u001b[1;33m\u001b[0m\u001b[0m\n\u001b[0m",
      "\u001b[1;32m~\\anaconda3\\envs\\unit2\\lib\\site-packages\\pandas\\core\\frame.py\u001b[0m in \u001b[0;36m__getitem__\u001b[1;34m(self, key)\u001b[0m\n\u001b[0;32m   3456\u001b[0m             \u001b[1;32mif\u001b[0m \u001b[0mself\u001b[0m\u001b[1;33m.\u001b[0m\u001b[0mcolumns\u001b[0m\u001b[1;33m.\u001b[0m\u001b[0mnlevels\u001b[0m \u001b[1;33m>\u001b[0m \u001b[1;36m1\u001b[0m\u001b[1;33m:\u001b[0m\u001b[1;33m\u001b[0m\u001b[1;33m\u001b[0m\u001b[0m\n\u001b[0;32m   3457\u001b[0m                 \u001b[1;32mreturn\u001b[0m \u001b[0mself\u001b[0m\u001b[1;33m.\u001b[0m\u001b[0m_getitem_multilevel\u001b[0m\u001b[1;33m(\u001b[0m\u001b[0mkey\u001b[0m\u001b[1;33m)\u001b[0m\u001b[1;33m\u001b[0m\u001b[1;33m\u001b[0m\u001b[0m\n\u001b[1;32m-> 3458\u001b[1;33m             \u001b[0mindexer\u001b[0m \u001b[1;33m=\u001b[0m \u001b[0mself\u001b[0m\u001b[1;33m.\u001b[0m\u001b[0mcolumns\u001b[0m\u001b[1;33m.\u001b[0m\u001b[0mget_loc\u001b[0m\u001b[1;33m(\u001b[0m\u001b[0mkey\u001b[0m\u001b[1;33m)\u001b[0m\u001b[1;33m\u001b[0m\u001b[1;33m\u001b[0m\u001b[0m\n\u001b[0m\u001b[0;32m   3459\u001b[0m             \u001b[1;32mif\u001b[0m \u001b[0mis_integer\u001b[0m\u001b[1;33m(\u001b[0m\u001b[0mindexer\u001b[0m\u001b[1;33m)\u001b[0m\u001b[1;33m:\u001b[0m\u001b[1;33m\u001b[0m\u001b[1;33m\u001b[0m\u001b[0m\n\u001b[0;32m   3460\u001b[0m                 \u001b[0mindexer\u001b[0m \u001b[1;33m=\u001b[0m \u001b[1;33m[\u001b[0m\u001b[0mindexer\u001b[0m\u001b[1;33m]\u001b[0m\u001b[1;33m\u001b[0m\u001b[1;33m\u001b[0m\u001b[0m\n",
      "\u001b[1;32m~\\anaconda3\\envs\\unit2\\lib\\site-packages\\pandas\\core\\indexes\\base.py\u001b[0m in \u001b[0;36mget_loc\u001b[1;34m(self, key, method, tolerance)\u001b[0m\n\u001b[0;32m   3361\u001b[0m                 \u001b[1;32mreturn\u001b[0m \u001b[0mself\u001b[0m\u001b[1;33m.\u001b[0m\u001b[0m_engine\u001b[0m\u001b[1;33m.\u001b[0m\u001b[0mget_loc\u001b[0m\u001b[1;33m(\u001b[0m\u001b[0mcasted_key\u001b[0m\u001b[1;33m)\u001b[0m\u001b[1;33m\u001b[0m\u001b[1;33m\u001b[0m\u001b[0m\n\u001b[0;32m   3362\u001b[0m             \u001b[1;32mexcept\u001b[0m \u001b[0mKeyError\u001b[0m \u001b[1;32mas\u001b[0m \u001b[0merr\u001b[0m\u001b[1;33m:\u001b[0m\u001b[1;33m\u001b[0m\u001b[1;33m\u001b[0m\u001b[0m\n\u001b[1;32m-> 3363\u001b[1;33m                 \u001b[1;32mraise\u001b[0m \u001b[0mKeyError\u001b[0m\u001b[1;33m(\u001b[0m\u001b[0mkey\u001b[0m\u001b[1;33m)\u001b[0m \u001b[1;32mfrom\u001b[0m \u001b[0merr\u001b[0m\u001b[1;33m\u001b[0m\u001b[1;33m\u001b[0m\u001b[0m\n\u001b[0m\u001b[0;32m   3364\u001b[0m \u001b[1;33m\u001b[0m\u001b[0m\n\u001b[0;32m   3365\u001b[0m         \u001b[1;32mif\u001b[0m \u001b[0mis_scalar\u001b[0m\u001b[1;33m(\u001b[0m\u001b[0mkey\u001b[0m\u001b[1;33m)\u001b[0m \u001b[1;32mand\u001b[0m \u001b[0misna\u001b[0m\u001b[1;33m(\u001b[0m\u001b[0mkey\u001b[0m\u001b[1;33m)\u001b[0m \u001b[1;32mand\u001b[0m \u001b[1;32mnot\u001b[0m \u001b[0mself\u001b[0m\u001b[1;33m.\u001b[0m\u001b[0mhasnans\u001b[0m\u001b[1;33m:\u001b[0m\u001b[1;33m\u001b[0m\u001b[1;33m\u001b[0m\u001b[0m\n",
      "\u001b[1;31mKeyError\u001b[0m: 'DATE'"
     ]
    }
   ],
   "source": [
    "#df['DATE']. value_counts()"
   ]
  },
  {
   "cell_type": "markdown",
   "metadata": {},
   "source": [
    "### Cutoff"
   ]
  },
  {
   "cell_type": "code",
   "execution_count": 183,
   "metadata": {},
   "outputs": [],
   "source": [
    "\n",
    "cutoff = '2015-12-25'\n",
    "mask = X.index < cutoff\n",
    "\n",
    "X_train, X_vt, y_train, y_vt = train_test_split(X, y, test_size=0.8)\n",
    "X_train, y_train = X.loc[mask], y.loc[mask]\n",
    "\n",
    "start_val= '2015-12-26'\n",
    "end_val= '2016-06-29'\n",
    "mask_val = (X.index> start_val) & (X.index < end_val)\n",
    "\n",
    "X_val, X_test, y_val, y_test = train_test_split(X_vt, y_vt, test_size=0.5) \n",
    "X_val, y_val, = X.loc[mask_val], y.loc[mask_val]\n",
    "\n",
    "start_test= '2016-06-30'\n",
    "end_test= '2017-12-31'\n",
    "mask_test = (X.index> start_test) & (X.index < end_test)\n",
    "\n",
    "X_test, y_test = X.loc[mask_test], y.loc[mask_test]"
   ]
  },
  {
   "cell_type": "code",
   "execution_count": 149,
   "metadata": {
    "scrolled": true
   },
   "outputs": [
    {
     "data": {
      "text/html": [
       "<div>\n",
       "<style scoped>\n",
       "    .dataframe tbody tr th:only-of-type {\n",
       "        vertical-align: middle;\n",
       "    }\n",
       "\n",
       "    .dataframe tbody tr th {\n",
       "        vertical-align: top;\n",
       "    }\n",
       "\n",
       "    .dataframe thead th {\n",
       "        text-align: right;\n",
       "    }\n",
       "</style>\n",
       "<table border=\"1\" class=\"dataframe\">\n",
       "  <thead>\n",
       "    <tr style=\"text-align: right;\">\n",
       "      <th></th>\n",
       "      <th>PERSONS INJURED</th>\n",
       "      <th>PERSONS KILLED</th>\n",
       "      <th>PEDESTRIANS INJURED</th>\n",
       "      <th>PEDESTRIANS KILLED</th>\n",
       "      <th>CYCLISTS INJURED</th>\n",
       "      <th>CYCLISTS KILLED</th>\n",
       "      <th>MOTORISTS INJURED</th>\n",
       "      <th>MOTORISTS KILLED</th>\n",
       "      <th>VEHICLE 1 TYPE</th>\n",
       "      <th>VEHICLE 1 FACTOR</th>\n",
       "    </tr>\n",
       "    <tr>\n",
       "      <th>DATE</th>\n",
       "      <th></th>\n",
       "      <th></th>\n",
       "      <th></th>\n",
       "      <th></th>\n",
       "      <th></th>\n",
       "      <th></th>\n",
       "      <th></th>\n",
       "      <th></th>\n",
       "      <th></th>\n",
       "      <th></th>\n",
       "    </tr>\n",
       "  </thead>\n",
       "  <tbody>\n",
       "    <tr>\n",
       "      <th>2016-07-01</th>\n",
       "      <td>0</td>\n",
       "      <td>0</td>\n",
       "      <td>0</td>\n",
       "      <td>0</td>\n",
       "      <td>0</td>\n",
       "      <td>0</td>\n",
       "      <td>0</td>\n",
       "      <td>0</td>\n",
       "      <td>VAN</td>\n",
       "      <td>UNSPECIFIED</td>\n",
       "    </tr>\n",
       "    <tr>\n",
       "      <th>2016-07-01</th>\n",
       "      <td>1</td>\n",
       "      <td>0</td>\n",
       "      <td>0</td>\n",
       "      <td>0</td>\n",
       "      <td>0</td>\n",
       "      <td>0</td>\n",
       "      <td>0</td>\n",
       "      <td>0</td>\n",
       "      <td>PASSENGER VEHICLE</td>\n",
       "      <td>UNSPECIFIED</td>\n",
       "    </tr>\n",
       "    <tr>\n",
       "      <th>2016-07-01</th>\n",
       "      <td>2</td>\n",
       "      <td>0</td>\n",
       "      <td>0</td>\n",
       "      <td>0</td>\n",
       "      <td>0</td>\n",
       "      <td>0</td>\n",
       "      <td>2</td>\n",
       "      <td>0</td>\n",
       "      <td>PASSENGER VEHICLE</td>\n",
       "      <td>UNSPECIFIED</td>\n",
       "    </tr>\n",
       "    <tr>\n",
       "      <th>2016-07-01</th>\n",
       "      <td>0</td>\n",
       "      <td>0</td>\n",
       "      <td>0</td>\n",
       "      <td>0</td>\n",
       "      <td>0</td>\n",
       "      <td>0</td>\n",
       "      <td>0</td>\n",
       "      <td>0</td>\n",
       "      <td>PASSENGER VEHICLE</td>\n",
       "      <td>UNSPECIFIED</td>\n",
       "    </tr>\n",
       "    <tr>\n",
       "      <th>2016-07-01</th>\n",
       "      <td>0</td>\n",
       "      <td>0</td>\n",
       "      <td>0</td>\n",
       "      <td>0</td>\n",
       "      <td>0</td>\n",
       "      <td>0</td>\n",
       "      <td>0</td>\n",
       "      <td>0</td>\n",
       "      <td>PASSENGER VEHICLE</td>\n",
       "      <td>UNSPECIFIED</td>\n",
       "    </tr>\n",
       "    <tr>\n",
       "      <th>...</th>\n",
       "      <td>...</td>\n",
       "      <td>...</td>\n",
       "      <td>...</td>\n",
       "      <td>...</td>\n",
       "      <td>...</td>\n",
       "      <td>...</td>\n",
       "      <td>...</td>\n",
       "      <td>...</td>\n",
       "      <td>...</td>\n",
       "      <td>...</td>\n",
       "    </tr>\n",
       "    <tr>\n",
       "      <th>2017-02-28</th>\n",
       "      <td>0</td>\n",
       "      <td>0</td>\n",
       "      <td>0</td>\n",
       "      <td>0</td>\n",
       "      <td>0</td>\n",
       "      <td>0</td>\n",
       "      <td>0</td>\n",
       "      <td>0</td>\n",
       "      <td>SPORT UTILITY/STATION WAGON</td>\n",
       "      <td>ACCELERATOR DEFECTIVE</td>\n",
       "    </tr>\n",
       "    <tr>\n",
       "      <th>2017-02-28</th>\n",
       "      <td>0</td>\n",
       "      <td>0</td>\n",
       "      <td>0</td>\n",
       "      <td>0</td>\n",
       "      <td>0</td>\n",
       "      <td>0</td>\n",
       "      <td>0</td>\n",
       "      <td>0</td>\n",
       "      <td>PASSENGER VEHICLE</td>\n",
       "      <td>UNSPECIFIED</td>\n",
       "    </tr>\n",
       "    <tr>\n",
       "      <th>2017-02-28</th>\n",
       "      <td>1</td>\n",
       "      <td>0</td>\n",
       "      <td>1</td>\n",
       "      <td>0</td>\n",
       "      <td>0</td>\n",
       "      <td>0</td>\n",
       "      <td>0</td>\n",
       "      <td>0</td>\n",
       "      <td>PASSENGER VEHICLE</td>\n",
       "      <td>FAILURE TO YIELD RIGHT-OF-WAY</td>\n",
       "    </tr>\n",
       "    <tr>\n",
       "      <th>2017-02-28</th>\n",
       "      <td>0</td>\n",
       "      <td>0</td>\n",
       "      <td>0</td>\n",
       "      <td>0</td>\n",
       "      <td>0</td>\n",
       "      <td>0</td>\n",
       "      <td>0</td>\n",
       "      <td>0</td>\n",
       "      <td>TAXI</td>\n",
       "      <td>UNSPECIFIED</td>\n",
       "    </tr>\n",
       "    <tr>\n",
       "      <th>2017-02-28</th>\n",
       "      <td>1</td>\n",
       "      <td>0</td>\n",
       "      <td>1</td>\n",
       "      <td>0</td>\n",
       "      <td>0</td>\n",
       "      <td>0</td>\n",
       "      <td>0</td>\n",
       "      <td>0</td>\n",
       "      <td>SPORT UTILITY/STATION WAGON</td>\n",
       "      <td>AGGRESSIVE DRIVING/ROAD RAGE</td>\n",
       "    </tr>\n",
       "  </tbody>\n",
       "</table>\n",
       "<p>149820 rows × 10 columns</p>\n",
       "</div>"
      ],
      "text/plain": [
       "            PERSONS INJURED  PERSONS KILLED  PEDESTRIANS INJURED  \\\n",
       "DATE                                                               \n",
       "2016-07-01                0               0                    0   \n",
       "2016-07-01                1               0                    0   \n",
       "2016-07-01                2               0                    0   \n",
       "2016-07-01                0               0                    0   \n",
       "2016-07-01                0               0                    0   \n",
       "...                     ...             ...                  ...   \n",
       "2017-02-28                0               0                    0   \n",
       "2017-02-28                0               0                    0   \n",
       "2017-02-28                1               0                    1   \n",
       "2017-02-28                0               0                    0   \n",
       "2017-02-28                1               0                    1   \n",
       "\n",
       "            PEDESTRIANS KILLED  CYCLISTS INJURED  CYCLISTS KILLED  \\\n",
       "DATE                                                                \n",
       "2016-07-01                   0                 0                0   \n",
       "2016-07-01                   0                 0                0   \n",
       "2016-07-01                   0                 0                0   \n",
       "2016-07-01                   0                 0                0   \n",
       "2016-07-01                   0                 0                0   \n",
       "...                        ...               ...              ...   \n",
       "2017-02-28                   0                 0                0   \n",
       "2017-02-28                   0                 0                0   \n",
       "2017-02-28                   0                 0                0   \n",
       "2017-02-28                   0                 0                0   \n",
       "2017-02-28                   0                 0                0   \n",
       "\n",
       "            MOTORISTS INJURED  MOTORISTS KILLED               VEHICLE 1 TYPE  \\\n",
       "DATE                                                                           \n",
       "2016-07-01                  0                 0                          VAN   \n",
       "2016-07-01                  0                 0            PASSENGER VEHICLE   \n",
       "2016-07-01                  2                 0            PASSENGER VEHICLE   \n",
       "2016-07-01                  0                 0            PASSENGER VEHICLE   \n",
       "2016-07-01                  0                 0            PASSENGER VEHICLE   \n",
       "...                       ...               ...                          ...   \n",
       "2017-02-28                  0                 0  SPORT UTILITY/STATION WAGON   \n",
       "2017-02-28                  0                 0            PASSENGER VEHICLE   \n",
       "2017-02-28                  0                 0            PASSENGER VEHICLE   \n",
       "2017-02-28                  0                 0                         TAXI   \n",
       "2017-02-28                  0                 0  SPORT UTILITY/STATION WAGON   \n",
       "\n",
       "                         VEHICLE 1 FACTOR  \n",
       "DATE                                       \n",
       "2016-07-01                    UNSPECIFIED  \n",
       "2016-07-01                    UNSPECIFIED  \n",
       "2016-07-01                    UNSPECIFIED  \n",
       "2016-07-01                    UNSPECIFIED  \n",
       "2016-07-01                    UNSPECIFIED  \n",
       "...                                   ...  \n",
       "2017-02-28          ACCELERATOR DEFECTIVE  \n",
       "2017-02-28                    UNSPECIFIED  \n",
       "2017-02-28  FAILURE TO YIELD RIGHT-OF-WAY  \n",
       "2017-02-28                    UNSPECIFIED  \n",
       "2017-02-28   AGGRESSIVE DRIVING/ROAD RAGE  \n",
       "\n",
       "[149820 rows x 10 columns]"
      ]
     },
     "execution_count": 149,
     "metadata": {},
     "output_type": "execute_result"
    }
   ],
   "source": [
    "X_test\n"
   ]
  },
  {
   "cell_type": "code",
   "execution_count": 79,
   "metadata": {},
   "outputs": [
    {
     "data": {
      "text/html": [
       "<div>\n",
       "<style scoped>\n",
       "    .dataframe tbody tr th:only-of-type {\n",
       "        vertical-align: middle;\n",
       "    }\n",
       "\n",
       "    .dataframe tbody tr th {\n",
       "        vertical-align: top;\n",
       "    }\n",
       "\n",
       "    .dataframe thead th {\n",
       "        text-align: right;\n",
       "    }\n",
       "</style>\n",
       "<table border=\"1\" class=\"dataframe\">\n",
       "  <thead>\n",
       "    <tr style=\"text-align: right;\">\n",
       "      <th></th>\n",
       "      <th>PERSONS INJURED</th>\n",
       "      <th>PERSONS KILLED</th>\n",
       "      <th>PEDESTRIANS INJURED</th>\n",
       "      <th>PEDESTRIANS KILLED</th>\n",
       "      <th>CYCLISTS INJURED</th>\n",
       "      <th>CYCLISTS KILLED</th>\n",
       "      <th>MOTORISTS INJURED</th>\n",
       "      <th>MOTORISTS KILLED</th>\n",
       "      <th>VEHICLE 1 TYPE</th>\n",
       "      <th>VEHICLE 1 FACTOR</th>\n",
       "    </tr>\n",
       "    <tr>\n",
       "      <th>DATE</th>\n",
       "      <th></th>\n",
       "      <th></th>\n",
       "      <th></th>\n",
       "      <th></th>\n",
       "      <th></th>\n",
       "      <th></th>\n",
       "      <th></th>\n",
       "      <th></th>\n",
       "      <th></th>\n",
       "      <th></th>\n",
       "    </tr>\n",
       "  </thead>\n",
       "  <tbody>\n",
       "    <tr>\n",
       "      <th>2015-01-01</th>\n",
       "      <td>0</td>\n",
       "      <td>0</td>\n",
       "      <td>0</td>\n",
       "      <td>0</td>\n",
       "      <td>0</td>\n",
       "      <td>0</td>\n",
       "      <td>0</td>\n",
       "      <td>0</td>\n",
       "      <td>SPORT UTILITY/STATION WAGON</td>\n",
       "      <td>TRAFFIC CONTROL DISREGARDED</td>\n",
       "    </tr>\n",
       "    <tr>\n",
       "      <th>2015-01-01</th>\n",
       "      <td>1</td>\n",
       "      <td>0</td>\n",
       "      <td>0</td>\n",
       "      <td>0</td>\n",
       "      <td>0</td>\n",
       "      <td>0</td>\n",
       "      <td>1</td>\n",
       "      <td>0</td>\n",
       "      <td>PASSENGER VEHICLE</td>\n",
       "      <td>ANIMALS ACTION</td>\n",
       "    </tr>\n",
       "    <tr>\n",
       "      <th>2015-01-01</th>\n",
       "      <td>0</td>\n",
       "      <td>0</td>\n",
       "      <td>0</td>\n",
       "      <td>0</td>\n",
       "      <td>0</td>\n",
       "      <td>0</td>\n",
       "      <td>0</td>\n",
       "      <td>0</td>\n",
       "      <td>PASSENGER VEHICLE</td>\n",
       "      <td>FATIGUED/DROWSY</td>\n",
       "    </tr>\n",
       "    <tr>\n",
       "      <th>2015-01-01</th>\n",
       "      <td>0</td>\n",
       "      <td>0</td>\n",
       "      <td>0</td>\n",
       "      <td>0</td>\n",
       "      <td>0</td>\n",
       "      <td>0</td>\n",
       "      <td>0</td>\n",
       "      <td>0</td>\n",
       "      <td>BUS</td>\n",
       "      <td>LOST CONSCIOUSNESS</td>\n",
       "    </tr>\n",
       "    <tr>\n",
       "      <th>2015-01-01</th>\n",
       "      <td>0</td>\n",
       "      <td>0</td>\n",
       "      <td>0</td>\n",
       "      <td>0</td>\n",
       "      <td>0</td>\n",
       "      <td>0</td>\n",
       "      <td>0</td>\n",
       "      <td>0</td>\n",
       "      <td>UNKNOWN</td>\n",
       "      <td>UNSPECIFIED</td>\n",
       "    </tr>\n",
       "    <tr>\n",
       "      <th>...</th>\n",
       "      <td>...</td>\n",
       "      <td>...</td>\n",
       "      <td>...</td>\n",
       "      <td>...</td>\n",
       "      <td>...</td>\n",
       "      <td>...</td>\n",
       "      <td>...</td>\n",
       "      <td>...</td>\n",
       "      <td>...</td>\n",
       "      <td>...</td>\n",
       "    </tr>\n",
       "    <tr>\n",
       "      <th>2015-06-28</th>\n",
       "      <td>0</td>\n",
       "      <td>0</td>\n",
       "      <td>0</td>\n",
       "      <td>0</td>\n",
       "      <td>0</td>\n",
       "      <td>0</td>\n",
       "      <td>0</td>\n",
       "      <td>0</td>\n",
       "      <td>PASSENGER VEHICLE</td>\n",
       "      <td>BACKING UNSAFELY</td>\n",
       "    </tr>\n",
       "    <tr>\n",
       "      <th>2015-06-28</th>\n",
       "      <td>0</td>\n",
       "      <td>0</td>\n",
       "      <td>0</td>\n",
       "      <td>0</td>\n",
       "      <td>0</td>\n",
       "      <td>0</td>\n",
       "      <td>0</td>\n",
       "      <td>0</td>\n",
       "      <td>TAXI</td>\n",
       "      <td>UNSPECIFIED</td>\n",
       "    </tr>\n",
       "    <tr>\n",
       "      <th>2015-06-28</th>\n",
       "      <td>0</td>\n",
       "      <td>0</td>\n",
       "      <td>0</td>\n",
       "      <td>0</td>\n",
       "      <td>0</td>\n",
       "      <td>0</td>\n",
       "      <td>0</td>\n",
       "      <td>0</td>\n",
       "      <td>PASSENGER VEHICLE</td>\n",
       "      <td>UNSPECIFIED</td>\n",
       "    </tr>\n",
       "    <tr>\n",
       "      <th>2015-06-28</th>\n",
       "      <td>0</td>\n",
       "      <td>0</td>\n",
       "      <td>0</td>\n",
       "      <td>0</td>\n",
       "      <td>0</td>\n",
       "      <td>0</td>\n",
       "      <td>0</td>\n",
       "      <td>0</td>\n",
       "      <td>SPORT UTILITY/STATION WAGON</td>\n",
       "      <td>UNSPECIFIED</td>\n",
       "    </tr>\n",
       "    <tr>\n",
       "      <th>2015-06-28</th>\n",
       "      <td>0</td>\n",
       "      <td>0</td>\n",
       "      <td>0</td>\n",
       "      <td>0</td>\n",
       "      <td>0</td>\n",
       "      <td>0</td>\n",
       "      <td>0</td>\n",
       "      <td>0</td>\n",
       "      <td>SPORT UTILITY/STATION WAGON</td>\n",
       "      <td>TRAFFIC CONTROL DEVICE IMPROPER/NON-WORKING</td>\n",
       "    </tr>\n",
       "  </tbody>\n",
       "</table>\n",
       "<p>103325 rows × 10 columns</p>\n",
       "</div>"
      ],
      "text/plain": [
       "            PERSONS INJURED  PERSONS KILLED  PEDESTRIANS INJURED  \\\n",
       "DATE                                                               \n",
       "2015-01-01                0               0                    0   \n",
       "2015-01-01                1               0                    0   \n",
       "2015-01-01                0               0                    0   \n",
       "2015-01-01                0               0                    0   \n",
       "2015-01-01                0               0                    0   \n",
       "...                     ...             ...                  ...   \n",
       "2015-06-28                0               0                    0   \n",
       "2015-06-28                0               0                    0   \n",
       "2015-06-28                0               0                    0   \n",
       "2015-06-28                0               0                    0   \n",
       "2015-06-28                0               0                    0   \n",
       "\n",
       "            PEDESTRIANS KILLED  CYCLISTS INJURED  CYCLISTS KILLED  \\\n",
       "DATE                                                                \n",
       "2015-01-01                   0                 0                0   \n",
       "2015-01-01                   0                 0                0   \n",
       "2015-01-01                   0                 0                0   \n",
       "2015-01-01                   0                 0                0   \n",
       "2015-01-01                   0                 0                0   \n",
       "...                        ...               ...              ...   \n",
       "2015-06-28                   0                 0                0   \n",
       "2015-06-28                   0                 0                0   \n",
       "2015-06-28                   0                 0                0   \n",
       "2015-06-28                   0                 0                0   \n",
       "2015-06-28                   0                 0                0   \n",
       "\n",
       "            MOTORISTS INJURED  MOTORISTS KILLED               VEHICLE 1 TYPE  \\\n",
       "DATE                                                                           \n",
       "2015-01-01                  0                 0  SPORT UTILITY/STATION WAGON   \n",
       "2015-01-01                  1                 0            PASSENGER VEHICLE   \n",
       "2015-01-01                  0                 0            PASSENGER VEHICLE   \n",
       "2015-01-01                  0                 0                          BUS   \n",
       "2015-01-01                  0                 0                      UNKNOWN   \n",
       "...                       ...               ...                          ...   \n",
       "2015-06-28                  0                 0            PASSENGER VEHICLE   \n",
       "2015-06-28                  0                 0                         TAXI   \n",
       "2015-06-28                  0                 0            PASSENGER VEHICLE   \n",
       "2015-06-28                  0                 0  SPORT UTILITY/STATION WAGON   \n",
       "2015-06-28                  0                 0  SPORT UTILITY/STATION WAGON   \n",
       "\n",
       "                                       VEHICLE 1 FACTOR  \n",
       "DATE                                                     \n",
       "2015-01-01                  TRAFFIC CONTROL DISREGARDED  \n",
       "2015-01-01                               ANIMALS ACTION  \n",
       "2015-01-01                              FATIGUED/DROWSY  \n",
       "2015-01-01                           LOST CONSCIOUSNESS  \n",
       "2015-01-01                                  UNSPECIFIED  \n",
       "...                                                 ...  \n",
       "2015-06-28                             BACKING UNSAFELY  \n",
       "2015-06-28                                  UNSPECIFIED  \n",
       "2015-06-28                                  UNSPECIFIED  \n",
       "2015-06-28                                  UNSPECIFIED  \n",
       "2015-06-28  TRAFFIC CONTROL DEVICE IMPROPER/NON-WORKING  \n",
       "\n",
       "[103325 rows x 10 columns]"
      ]
     },
     "execution_count": 79,
     "metadata": {},
     "output_type": "execute_result"
    }
   ],
   "source": [
    "X_train"
   ]
  },
  {
   "cell_type": "markdown",
   "metadata": {},
   "source": [
    "## Establish Baseline"
   ]
  },
  {
   "cell_type": "code",
   "execution_count": 195,
   "metadata": {},
   "outputs": [
    {
     "data": {
      "text/plain": [
       "0.0    0.571139\n",
       "1.0    0.428861\n",
       "Name: New_Borough, dtype: float64"
      ]
     },
     "execution_count": 195,
     "metadata": {},
     "output_type": "execute_result"
    }
   ],
   "source": [
    "y_train.value_counts(normalize=True)"
   ]
  },
  {
   "cell_type": "code",
   "execution_count": 185,
   "metadata": {},
   "outputs": [
    {
     "name": "stdout",
     "output_type": "stream",
     "text": [
      "Baseline Accuracy 0.5711385339170533\n"
     ]
    }
   ],
   "source": [
    "\n",
    "print(\"Baseline Accuracy\", y_train.value_counts(normalize=True).max())"
   ]
  },
  {
   "cell_type": "markdown",
   "metadata": {},
   "source": [
    "## Build Model"
   ]
  },
  {
   "cell_type": "code",
   "execution_count": 194,
   "metadata": {},
   "outputs": [
    {
     "name": "stderr",
     "output_type": "stream",
     "text": [
      "C:\\Users\\arnel\\anaconda3\\envs\\unit2\\lib\\site-packages\\category_encoders\\utils.py:21: FutureWarning: is_categorical is deprecated and will be removed in a future version.  Use is_categorical_dtype instead\n",
      "  elif pd.api.types.is_categorical(cols):\n"
     ]
    },
    {
     "name": "stdout",
     "output_type": "stream",
     "text": [
      "(214258, 74)\n",
      "(111497, 74)\n",
      "(149820, 74)\n"
     ]
    }
   ],
   "source": [
    "\n",
    "ohe = OneHotEncoder(use_cat_names=True)\n",
    "\n",
    "ohe.fit(X_train)\n",
    "\n",
    "\n",
    "XT_train = ohe.transform(X_train)\n",
    "XT_val= ohe.transform(X_val)\n",
    "XT_test = ohe.transform(X_test)\n",
    "\n",
    "\n",
    "print(XT_train.shape)\n",
    "print(XT_val.shape)\n",
    "print(XT_test.shape)"
   ]
  },
  {
   "cell_type": "code",
   "execution_count": 196,
   "metadata": {},
   "outputs": [
    {
     "data": {
      "text/plain": [
       "Pipeline(steps=[('onehotencoder',\n",
       "                 OneHotEncoder(cols=['VEHICLE 1 TYPE', 'VEHICLE 1 FACTOR'],\n",
       "                               use_cat_names=True)),\n",
       "                ('simpleimputer', SimpleImputer()),\n",
       "                ('standardscaler', StandardScaler()),\n",
       "                ('logisticregression', LogisticRegression())])"
      ]
     },
     "execution_count": 196,
     "metadata": {},
     "output_type": "execute_result"
    }
   ],
   "source": [
    "lr_model = make_pipeline(OneHotEncoder(use_cat_names= True), \n",
    "                         SimpleImputer(), \n",
    "                         StandardScaler(),\n",
    "                         LogisticRegression())\n",
    "\n",
    "lr_model.fit(X_train, y_train)"
   ]
  },
  {
   "cell_type": "code",
   "execution_count": 197,
   "metadata": {},
   "outputs": [
    {
     "name": "stderr",
     "output_type": "stream",
     "text": [
      "C:\\Users\\arnel\\anaconda3\\envs\\unit2\\lib\\site-packages\\category_encoders\\utils.py:21: FutureWarning: is_categorical is deprecated and will be removed in a future version.  Use is_categorical_dtype instead\n",
      "  elif pd.api.types.is_categorical(cols):\n"
     ]
    },
    {
     "data": {
      "text/plain": [
       "Pipeline(steps=[('onehotencoder',\n",
       "                 OneHotEncoder(cols=['VEHICLE 1 TYPE', 'VEHICLE 1 FACTOR'],\n",
       "                               use_cat_names=True)),\n",
       "                ('simpleimputer', SimpleImputer()),\n",
       "                ('randomforestclassifier', RandomForestClassifier())])"
      ]
     },
     "execution_count": 197,
     "metadata": {},
     "output_type": "execute_result"
    }
   ],
   "source": [
    "model_rf = make_pipeline(OneHotEncoder(use_cat_names= True),\n",
    "                         SimpleImputer(strategy= 'mean'),\n",
    "                         RandomForestClassifier())\n",
    "\n",
    "model_rf.fit(X_train, y_train)\n",
    "model_rf"
   ]
  },
  {
   "cell_type": "code",
   "execution_count": 189,
   "metadata": {},
   "outputs": [
    {
     "data": {
      "text/plain": [
       "<bound method DataFrame.value_counts of             PERSONS INJURED  PERSONS KILLED  PEDESTRIANS INJURED  \\\n",
       "DATE                                                               \n",
       "2015-12-27                0               0                    0   \n",
       "2015-12-27                2               0                    0   \n",
       "2015-12-27                0               0                    0   \n",
       "2015-12-27                0               0                    0   \n",
       "2015-12-27                0               0                    0   \n",
       "...                     ...             ...                  ...   \n",
       "2016-06-28                0               0                    0   \n",
       "2016-06-28                0               0                    0   \n",
       "2016-06-28                0               0                    0   \n",
       "2016-06-28                0               0                    0   \n",
       "2016-06-28                0               0                    0   \n",
       "\n",
       "            PEDESTRIANS KILLED  CYCLISTS INJURED  CYCLISTS KILLED  \\\n",
       "DATE                                                                \n",
       "2015-12-27                   0                 0                0   \n",
       "2015-12-27                   0                 0                0   \n",
       "2015-12-27                   0                 0                0   \n",
       "2015-12-27                   0                 0                0   \n",
       "2015-12-27                   0                 0                0   \n",
       "...                        ...               ...              ...   \n",
       "2016-06-28                   0                 0                0   \n",
       "2016-06-28                   0                 0                0   \n",
       "2016-06-28                   0                 0                0   \n",
       "2016-06-28                   0                 0                0   \n",
       "2016-06-28                   0                 0                0   \n",
       "\n",
       "            MOTORISTS INJURED  MOTORISTS KILLED     VEHICLE 1 TYPE  \\\n",
       "DATE                                                                 \n",
       "2015-12-27                  0                 0  PASSENGER VEHICLE   \n",
       "2015-12-27                  2                 0  PASSENGER VEHICLE   \n",
       "2015-12-27                  0                 0  PASSENGER VEHICLE   \n",
       "2015-12-27                  0                 0  PASSENGER VEHICLE   \n",
       "2015-12-27                  0                 0  PASSENGER VEHICLE   \n",
       "...                       ...               ...                ...   \n",
       "2016-06-28                  0                 0  PASSENGER VEHICLE   \n",
       "2016-06-28                  0                 0  PASSENGER VEHICLE   \n",
       "2016-06-28                  0                 0  PASSENGER VEHICLE   \n",
       "2016-06-28                  0                 0  PASSENGER VEHICLE   \n",
       "2016-06-28                  0                 0  PASSENGER VEHICLE   \n",
       "\n",
       "                          VEHICLE 1 FACTOR  \n",
       "DATE                                        \n",
       "2015-12-27                     UNSPECIFIED  \n",
       "2015-12-27                     UNSPECIFIED  \n",
       "2015-12-27  DRIVER INATTENTION/DISTRACTION  \n",
       "2015-12-27         PRESCRIPTION MEDICATION  \n",
       "2015-12-27               PAVEMENT SLIPPERY  \n",
       "...                                    ...  \n",
       "2016-06-28                     UNSPECIFIED  \n",
       "2016-06-28                     UNSPECIFIED  \n",
       "2016-06-28                     UNSPECIFIED  \n",
       "2016-06-28                     UNSPECIFIED  \n",
       "2016-06-28                     UNSPECIFIED  \n",
       "\n",
       "[111497 rows x 10 columns]>"
      ]
     },
     "execution_count": 189,
     "metadata": {},
     "output_type": "execute_result"
    }
   ],
   "source": [
    "X_val.value_counts"
   ]
  },
  {
   "cell_type": "markdown",
   "metadata": {},
   "source": [
    "## Check the Metrics"
   ]
  },
  {
   "cell_type": "markdown",
   "metadata": {},
   "source": [
    "### Accuracy"
   ]
  },
  {
   "cell_type": "code",
   "execution_count": 198,
   "metadata": {},
   "outputs": [
    {
     "name": "stdout",
     "output_type": "stream",
     "text": [
      "Training Accuracy - Logistic Regression 0.5872266146421604\n",
      "Validation Accuracy - Logistic Regression 0.5783832748863198\n"
     ]
    }
   ],
   "source": [
    "print(\"Training Accuracy - Logistic Regression\", lr_model.score(X_train, y_train))\n",
    "print(\"Validation Accuracy - Logistic Regression\", lr_model.score(X_val, y_val))"
   ]
  },
  {
   "cell_type": "code",
   "execution_count": 199,
   "metadata": {},
   "outputs": [
    {
     "name": "stdout",
     "output_type": "stream",
     "text": [
      "Training Accuracy - Random Forest 0.5955623593984822\n",
      "Validation Accuracy - Random Forest 0.5778989569226077\n"
     ]
    }
   ],
   "source": [
    "print(\"Training Accuracy - Random Forest\", model_rf.score(X_train, y_train))\n",
    "print(\"Validation Accuracy - Random Forest\", model_rf.score(X_val, y_val))"
   ]
  },
  {
   "cell_type": "markdown",
   "metadata": {},
   "source": [
    "### Correlation"
   ]
  },
  {
   "cell_type": "code",
   "execution_count": 200,
   "metadata": {},
   "outputs": [
    {
     "data": {
      "text/html": [
       "<div>\n",
       "<style scoped>\n",
       "    .dataframe tbody tr th:only-of-type {\n",
       "        vertical-align: middle;\n",
       "    }\n",
       "\n",
       "    .dataframe tbody tr th {\n",
       "        vertical-align: top;\n",
       "    }\n",
       "\n",
       "    .dataframe thead th {\n",
       "        text-align: right;\n",
       "    }\n",
       "</style>\n",
       "<table border=\"1\" class=\"dataframe\">\n",
       "  <thead>\n",
       "    <tr style=\"text-align: right;\">\n",
       "      <th></th>\n",
       "      <th>PERSONS INJURED</th>\n",
       "      <th>PERSONS KILLED</th>\n",
       "      <th>PEDESTRIANS INJURED</th>\n",
       "      <th>PEDESTRIANS KILLED</th>\n",
       "      <th>CYCLISTS INJURED</th>\n",
       "      <th>CYCLISTS KILLED</th>\n",
       "      <th>MOTORISTS INJURED</th>\n",
       "      <th>MOTORISTS KILLED</th>\n",
       "      <th>New_Borough</th>\n",
       "    </tr>\n",
       "  </thead>\n",
       "  <tbody>\n",
       "    <tr>\n",
       "      <th>PERSONS INJURED</th>\n",
       "      <td>1.000000</td>\n",
       "      <td>0.018667</td>\n",
       "      <td>0.275958</td>\n",
       "      <td>0.002529</td>\n",
       "      <td>0.163235</td>\n",
       "      <td>0.002152</td>\n",
       "      <td>0.861593</td>\n",
       "      <td>0.025676</td>\n",
       "      <td>0.021505</td>\n",
       "    </tr>\n",
       "    <tr>\n",
       "      <th>PERSONS KILLED</th>\n",
       "      <td>0.018667</td>\n",
       "      <td>1.000000</td>\n",
       "      <td>0.008535</td>\n",
       "      <td>0.740585</td>\n",
       "      <td>-0.003039</td>\n",
       "      <td>0.258293</td>\n",
       "      <td>0.017109</td>\n",
       "      <td>0.605724</td>\n",
       "      <td>-0.001393</td>\n",
       "    </tr>\n",
       "    <tr>\n",
       "      <th>PEDESTRIANS INJURED</th>\n",
       "      <td>0.275958</td>\n",
       "      <td>0.008535</td>\n",
       "      <td>1.000000</td>\n",
       "      <td>0.014432</td>\n",
       "      <td>-0.023372</td>\n",
       "      <td>-0.001798</td>\n",
       "      <td>-0.046758</td>\n",
       "      <td>-0.003082</td>\n",
       "      <td>0.026490</td>\n",
       "    </tr>\n",
       "    <tr>\n",
       "      <th>PEDESTRIANS KILLED</th>\n",
       "      <td>0.002529</td>\n",
       "      <td>0.740585</td>\n",
       "      <td>0.014432</td>\n",
       "      <td>1.000000</td>\n",
       "      <td>-0.002785</td>\n",
       "      <td>-0.000216</td>\n",
       "      <td>0.000188</td>\n",
       "      <td>-0.000415</td>\n",
       "      <td>0.000070</td>\n",
       "    </tr>\n",
       "    <tr>\n",
       "      <th>CYCLISTS INJURED</th>\n",
       "      <td>0.163235</td>\n",
       "      <td>-0.003039</td>\n",
       "      <td>-0.023372</td>\n",
       "      <td>-0.002785</td>\n",
       "      <td>1.000000</td>\n",
       "      <td>0.001747</td>\n",
       "      <td>-0.033929</td>\n",
       "      <td>-0.002265</td>\n",
       "      <td>0.019913</td>\n",
       "    </tr>\n",
       "    <tr>\n",
       "      <th>CYCLISTS KILLED</th>\n",
       "      <td>0.002152</td>\n",
       "      <td>0.258293</td>\n",
       "      <td>-0.001798</td>\n",
       "      <td>-0.000216</td>\n",
       "      <td>0.001747</td>\n",
       "      <td>1.000000</td>\n",
       "      <td>0.001850</td>\n",
       "      <td>0.010510</td>\n",
       "      <td>0.001901</td>\n",
       "    </tr>\n",
       "    <tr>\n",
       "      <th>MOTORISTS INJURED</th>\n",
       "      <td>0.861593</td>\n",
       "      <td>0.017109</td>\n",
       "      <td>-0.046758</td>\n",
       "      <td>0.000188</td>\n",
       "      <td>-0.033929</td>\n",
       "      <td>0.001850</td>\n",
       "      <td>1.000000</td>\n",
       "      <td>0.027977</td>\n",
       "      <td>0.002900</td>\n",
       "    </tr>\n",
       "    <tr>\n",
       "      <th>MOTORISTS KILLED</th>\n",
       "      <td>0.025676</td>\n",
       "      <td>0.605724</td>\n",
       "      <td>-0.003082</td>\n",
       "      <td>-0.000415</td>\n",
       "      <td>-0.002265</td>\n",
       "      <td>0.010510</td>\n",
       "      <td>0.027977</td>\n",
       "      <td>1.000000</td>\n",
       "      <td>-0.003308</td>\n",
       "    </tr>\n",
       "    <tr>\n",
       "      <th>New_Borough</th>\n",
       "      <td>0.021505</td>\n",
       "      <td>-0.001393</td>\n",
       "      <td>0.026490</td>\n",
       "      <td>0.000070</td>\n",
       "      <td>0.019913</td>\n",
       "      <td>0.001901</td>\n",
       "      <td>0.002900</td>\n",
       "      <td>-0.003308</td>\n",
       "      <td>1.000000</td>\n",
       "    </tr>\n",
       "  </tbody>\n",
       "</table>\n",
       "</div>"
      ],
      "text/plain": [
       "                     PERSONS INJURED  PERSONS KILLED  PEDESTRIANS INJURED  \\\n",
       "PERSONS INJURED             1.000000        0.018667             0.275958   \n",
       "PERSONS KILLED              0.018667        1.000000             0.008535   \n",
       "PEDESTRIANS INJURED         0.275958        0.008535             1.000000   \n",
       "PEDESTRIANS KILLED          0.002529        0.740585             0.014432   \n",
       "CYCLISTS INJURED            0.163235       -0.003039            -0.023372   \n",
       "CYCLISTS KILLED             0.002152        0.258293            -0.001798   \n",
       "MOTORISTS INJURED           0.861593        0.017109            -0.046758   \n",
       "MOTORISTS KILLED            0.025676        0.605724            -0.003082   \n",
       "New_Borough                 0.021505       -0.001393             0.026490   \n",
       "\n",
       "                     PEDESTRIANS KILLED  CYCLISTS INJURED  CYCLISTS KILLED  \\\n",
       "PERSONS INJURED                0.002529          0.163235         0.002152   \n",
       "PERSONS KILLED                 0.740585         -0.003039         0.258293   \n",
       "PEDESTRIANS INJURED            0.014432         -0.023372        -0.001798   \n",
       "PEDESTRIANS KILLED             1.000000         -0.002785        -0.000216   \n",
       "CYCLISTS INJURED              -0.002785          1.000000         0.001747   \n",
       "CYCLISTS KILLED               -0.000216          0.001747         1.000000   \n",
       "MOTORISTS INJURED              0.000188         -0.033929         0.001850   \n",
       "MOTORISTS KILLED              -0.000415         -0.002265         0.010510   \n",
       "New_Borough                    0.000070          0.019913         0.001901   \n",
       "\n",
       "                     MOTORISTS INJURED  MOTORISTS KILLED  New_Borough  \n",
       "PERSONS INJURED               0.861593          0.025676     0.021505  \n",
       "PERSONS KILLED                0.017109          0.605724    -0.001393  \n",
       "PEDESTRIANS INJURED          -0.046758         -0.003082     0.026490  \n",
       "PEDESTRIANS KILLED            0.000188         -0.000415     0.000070  \n",
       "CYCLISTS INJURED             -0.033929         -0.002265     0.019913  \n",
       "CYCLISTS KILLED               0.001850          0.010510     0.001901  \n",
       "MOTORISTS INJURED             1.000000          0.027977     0.002900  \n",
       "MOTORISTS KILLED              0.027977          1.000000    -0.003308  \n",
       "New_Borough                   0.002900         -0.003308     1.000000  "
      ]
     },
     "execution_count": 200,
     "metadata": {},
     "output_type": "execute_result"
    }
   ],
   "source": [
    "df.corr()"
   ]
  },
  {
   "cell_type": "markdown",
   "metadata": {},
   "source": [
    "## Make sure there is no leakeage"
   ]
  },
  {
   "cell_type": "code",
   "execution_count": 201,
   "metadata": {},
   "outputs": [
    {
     "data": {
      "image/png": "[encoded data removed]",
      "text/plain": [
       "<Figure size 432x288 with 1 Axes>"
      ]
     },
     "metadata": {
      "needs_background": "light"
     },
     "output_type": "display_data"
    }
   ],
   "source": [
    "importances = model_rf.named_steps['randomforestclassifier'].feature_importances_\n",
    "features = XT_train.columns\n",
    "pd.Series(importances,index=features).abs().sort_values().tail(10).plot(kind='barh');"
   ]
  },
  {
   "cell_type": "markdown",
   "metadata": {},
   "source": [
    "## Tune Model"
   ]
  },
  {
   "cell_type": "code",
   "execution_count": 206,
   "metadata": {},
   "outputs": [
    {
     "name": "stderr",
     "output_type": "stream",
     "text": [
      "C:\\Users\\arnel\\anaconda3\\envs\\unit2\\lib\\site-packages\\category_encoders\\utils.py:21: FutureWarning: is_categorical is deprecated and will be removed in a future version.  Use is_categorical_dtype instead\n",
      "  elif pd.api.types.is_categorical(cols):\n"
     ]
    }
   ],
   "source": [
    "model = make_pipeline(\n",
    "    OneHotEncoder(use_cat_names= True),\n",
    "    SimpleImputer(strategy='mean'),\n",
    "    RandomForestClassifier(n_estimators=300,\n",
    "                           n_jobs=-1)\n",
    ")\n",
    "\n",
    "model.fit(X_train, y_train);"
   ]
  },
  {
   "cell_type": "code",
   "execution_count": 207,
   "metadata": {},
   "outputs": [
    {
     "name": "stdout",
     "output_type": "stream",
     "text": [
      "Training Accuracy: 0.5955623593984822\n",
      "Validation Accuracy: 0.5781142093509243\n"
     ]
    }
   ],
   "source": [
    "print('Training Accuracy:', model.score(X_train, y_train) )\n",
    "print('Validation Accuracy:',model.score(X_val, y_val) )"
   ]
  },
  {
   "cell_type": "code",
   "execution_count": 208,
   "metadata": {},
   "outputs": [
    {
     "name": "stdout",
     "output_type": "stream",
     "text": [
      "              precision    recall  f1-score   support\n",
      "\n",
      "         0.0       0.60      0.82      0.69     64375\n",
      "         1.0       0.50      0.25      0.33     47122\n",
      "\n",
      "    accuracy                           0.58    111497\n",
      "   macro avg       0.55      0.53      0.51    111497\n",
      "weighted avg       0.56      0.58      0.54    111497\n",
      "\n"
     ]
    },
    {
     "data": {
      "image/png": "[encoded data removed]",
      "text/plain": [
       "<Figure size 432x288 with 2 Axes>"
      ]
     },
     "metadata": {
      "needs_background": "light"
     },
     "output_type": "display_data"
    }
   ],
   "source": [
    "print(classification_report(y_val, lr_model.predict(X_val)))\n",
    "plot_confusion_matrix(\n",
    "    lr_model,\n",
    "    X_val,\n",
    "    y_val)\n",
    "plt.show()\n",
    "   # display_labels = ['no repairs needed','needs repairs'])"
   ]
  },
  {
   "cell_type": "code",
   "execution_count": 209,
   "metadata": {},
   "outputs": [
    {
     "name": "stdout",
     "output_type": "stream",
     "text": [
      "              precision    recall  f1-score   support\n",
      "\n",
      "         0.0       0.59      0.84      0.70     64375\n",
      "         1.0       0.50      0.21      0.30     47122\n",
      "\n",
      "    accuracy                           0.58    111497\n",
      "   macro avg       0.55      0.53      0.50    111497\n",
      "weighted avg       0.56      0.58      0.53    111497\n",
      "\n"
     ]
    },
    {
     "data": {
      "image/png": "[encoded data removed]",
      "text/plain": [
       "<Figure size 432x288 with 2 Axes>"
      ]
     },
     "metadata": {
      "needs_background": "light"
     },
     "output_type": "display_data"
    }
   ],
   "source": [
    "print(classification_report(y_val, model_rf.predict(X_val)))\n",
    "plot_confusion_matrix(model_rf, X_val, y_val)\n",
    "plt.show()"
   ]
  },
  {
   "cell_type": "code",
   "execution_count": 210,
   "metadata": {},
   "outputs": [
    {
     "data": {
      "image/png": "[encoded data removed]",
      "text/plain": [
       "<Figure size 432x288 with 1 Axes>"
      ]
     },
     "metadata": {
      "needs_background": "light"
     },
     "output_type": "display_data"
    }
   ],
   "source": [
    "lr = plot_roc_curve(lr_model, X_val, y_val)\n",
    "rf = plot_roc_curve(model_rf, X_val, y_val, ax=lr.ax_)"
   ]
  },
  {
   "cell_type": "code",
   "execution_count": null,
   "metadata": {},
   "outputs": [],
   "source": []
  },
  {
   "cell_type": "code",
   "execution_count": null,
   "metadata": {},
   "outputs": [],
   "source": []
  }
 ],
 "metadata": {
  "kernelspec": {
   "display_name": "Python 3 (ipykernel)",
   "language": "python",
   "name": "python3"
  },
  "language_info": {
   "codemirror_mode": {
    "name": "ipython",
    "version": 3
   },
   "file_extension": ".py",
   "mimetype": "text/x-python",
   "name": "python",
   "nbconvert_exporter": "python",
   "pygments_lexer": "ipython3",
   "version": "3.7.11"
  }
 },
 "nbformat": 4,
 "nbformat_minor": 1
}
